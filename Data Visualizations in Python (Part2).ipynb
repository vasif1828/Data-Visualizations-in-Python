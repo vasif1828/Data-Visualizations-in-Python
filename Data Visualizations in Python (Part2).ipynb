{
 "cells": [
  {
   "cell_type": "markdown",
   "id": "2b0f4b70-7db7-452e-afc2-77496cb9eae4",
   "metadata": {},
   "source": [
    "<h1 style = \"background-color: #c7fff3; text-align:center; font-size: 30px; \n",
    "             padding: 20px; \"> Data Visualizations in Python (Part 2) </h1> \n"
   ]
  },
  {
   "cell_type": "markdown",
   "id": "81d004ab-c3d1-4217-aee5-2ce61bb7dbb8",
   "metadata": {},
   "source": [
    "In this project, I will apply  the following visualizations:\n",
    "<ol>\n",
    "    <li> <a href = \"#Box-Plots\"> Box Plots </li>\n",
    "    <li><a href=\"#Violin-Plots\">Violin Plots</a></li>\n",
    "    <li> <a href = \"#KDE-Plots\">KDE Plots </li>\n",
    "</ol>"
   ]
  },
  {
   "cell_type": "code",
   "execution_count": 1,
   "id": "49253958-b096-4bb0-8666-c8fd0dc20a3a",
   "metadata": {},
   "outputs": [],
   "source": [
    "import pandas as pd\n",
    "import seaborn as sns\n",
    "import numpy as np\n",
    "import matplotlib.pyplot as plt\n",
    "%matplotlib inline"
   ]
  },
  {
   "cell_type": "markdown",
   "id": "705e5233-4554-43ae-bb01-ea24099cb736",
   "metadata": {},
   "source": [
    "<section style = \"background-color:#226657; color:#226657\">. </section>"
   ]
  },
  {
   "cell_type": "markdown",
   "id": "d0a52028-bbc8-434b-a2c0-3d3b26a40746",
   "metadata": {},
   "source": [
    "# Importing Dataset"
   ]
  },
  {
   "cell_type": "markdown",
   "id": "cc49c5fe-f1d3-46db-99e2-3b404b6cb3b5",
   "metadata": {},
   "source": [
    "<h2>Dataset information</h2>\n",
    "\n",
    "<font size = 3>\n",
    "<p>The data I used in this project is \"anime_dataset.csv\" which describes the most watched animes in India. The data set is uplodaded from the Kaggle. For more information, you can check the dataset in Kaggle following the given link:\n",
    "<a href = https://www.kaggle.com/datasets/ashaychoudhary/animeverse-most-watched-anime-in-india-dataset> AnimeVers: Most Watched Anime in India Dataset </a> </p>\n",
    "</font>\n",
    "\n",
    "<font size = 3> <p>\n",
    "<ol>\n",
    "    <li> Anime_ID – A unique identifier for each anime.</li>\n",
    "    <li> Title – The name of the anime.</li>\n",
    "    <li> Genre – The genres associated with the anime (e.g., Action, Comedy, Drama).</li>\n",
    "    <li> Episodes – The total number of episodes in the anime.</li>\n",
    "    <li> Type – The format of the anime (e.g., TV, Movie, OVA, ONA, Special).</li>\n",
    "    <li> Studio – The animation studio that produced the anime.</li>\n",
    "    <li> Source – The original material the anime is adapted from (e.g., Manga, Light Novel, Original, Game).</li>\n",
    "    <li> Rating – The age rating (e.g., PG-13, R, G) indicating suitability for different audiences.</li>\n",
    "    <li> Popularity – A ranking based on how many users have interacted with the anime (lower values indicate higher popularity).</li>\n",
    "    <li> Members – The total number of members who have added this anime to their lists on an anime database (e.g., MyAnimeList).</li>\n",
    "    <li> Favorites – The number of users who have marked this anime as a favorite.</li>\n",
    "    <li>Airing_Start – The date when the anime first started airing.  </li>\n",
    "    <li>Airing_End – The date when the anime finished airing (if applicable).  </li>\n",
    "    <li>Duration – The average duration of each episode (e.g., \"24 min per ep\").  </li>\n",
    "    <li>Broadcast_Day – The typical day of the week the anime aired (e.g., \"Friday\")  </li>\n",
    "    <li>Producers – Companies involved in funding and planning the anime (not necessarily animating it).  </li>\n",
    "    <li>Licensors – Companies that acquired the rights to distribute the anime in different regions.  </li>\n",
    "    <li>Score – The overall rating given by users (e.g., IMDb-style rating out of 10).    </li>\n",
    "    <li>Rank – The ranking of the anime based on its score (lower values indicate better rankings).</li>\n",
    "    <li>Synopsis – A short description of the anime's plot. </li>\n",
    "\n",
    "</ol>\n",
    "</p>\n",
    "</font>"
   ]
  },
  {
   "cell_type": "markdown",
   "id": "59578548-9e8f-47ab-8314-b589cb6e5a92",
   "metadata": {},
   "source": [
    "<p style = \"background-color:#dce8e7; font-size: 20px\"> In order to understand the columns and rows in the dataset, let's display first 10 rows; then columns and data types of each column! </p>  "
   ]
  },
  {
   "cell_type": "code",
   "execution_count": 3,
   "id": "ffb80124-747e-42fe-b0c3-8bebb7925d81",
   "metadata": {},
   "outputs": [
    {
     "data": {
      "text/html": [
       "<div>\n",
       "<style scoped>\n",
       "    .dataframe tbody tr th:only-of-type {\n",
       "        vertical-align: middle;\n",
       "    }\n",
       "\n",
       "    .dataframe tbody tr th {\n",
       "        vertical-align: top;\n",
       "    }\n",
       "\n",
       "    .dataframe thead th {\n",
       "        text-align: right;\n",
       "    }\n",
       "</style>\n",
       "<table border=\"1\" class=\"dataframe\">\n",
       "  <thead>\n",
       "    <tr style=\"text-align: right;\">\n",
       "      <th></th>\n",
       "      <th>Anime_ID</th>\n",
       "      <th>Title</th>\n",
       "      <th>Genre</th>\n",
       "      <th>Episodes</th>\n",
       "      <th>Type</th>\n",
       "      <th>Studio</th>\n",
       "      <th>Source</th>\n",
       "      <th>Rating</th>\n",
       "      <th>Popularity</th>\n",
       "      <th>Members</th>\n",
       "      <th>Favorites</th>\n",
       "      <th>Airing_Start</th>\n",
       "      <th>Airing_End</th>\n",
       "      <th>Duration</th>\n",
       "      <th>Broadcast_Day</th>\n",
       "      <th>Producers</th>\n",
       "      <th>Licensors</th>\n",
       "      <th>Score</th>\n",
       "      <th>Rank</th>\n",
       "      <th>Synopsis</th>\n",
       "    </tr>\n",
       "  </thead>\n",
       "  <tbody>\n",
       "    <tr>\n",
       "      <th>0</th>\n",
       "      <td>1</td>\n",
       "      <td>Teach under work</td>\n",
       "      <td>Fantasy, Horror, Action</td>\n",
       "      <td>36</td>\n",
       "      <td>TV</td>\n",
       "      <td>J.C.Staff</td>\n",
       "      <td>Webtoon</td>\n",
       "      <td>7.67</td>\n",
       "      <td>4954</td>\n",
       "      <td>236999</td>\n",
       "      <td>39747</td>\n",
       "      <td>2018-12-12</td>\n",
       "      <td>2026-05-17</td>\n",
       "      <td>54</td>\n",
       "      <td>Monday</td>\n",
       "      <td>TV Tokyo, Kodansha</td>\n",
       "      <td>Viz Media</td>\n",
       "      <td>5.42</td>\n",
       "      <td>13948</td>\n",
       "      <td>Order per far even something of never. Natural...</td>\n",
       "    </tr>\n",
       "    <tr>\n",
       "      <th>1</th>\n",
       "      <td>2</td>\n",
       "      <td>Phone star</td>\n",
       "      <td>Romance, Action</td>\n",
       "      <td>58</td>\n",
       "      <td>ONA</td>\n",
       "      <td>Ufotable</td>\n",
       "      <td>Game</td>\n",
       "      <td>7.83</td>\n",
       "      <td>5484</td>\n",
       "      <td>450384</td>\n",
       "      <td>41331</td>\n",
       "      <td>2024-08-31</td>\n",
       "      <td>2027-02-25</td>\n",
       "      <td>50</td>\n",
       "      <td>Sunday</td>\n",
       "      <td>Kodansha</td>\n",
       "      <td>Viz Media</td>\n",
       "      <td>6.98</td>\n",
       "      <td>14869</td>\n",
       "      <td>Realize mean situation high sing. Seek could e...</td>\n",
       "    </tr>\n",
       "    <tr>\n",
       "      <th>2</th>\n",
       "      <td>3</td>\n",
       "      <td>Guy explain human everybody</td>\n",
       "      <td>Drama, Comedy</td>\n",
       "      <td>2</td>\n",
       "      <td>ONA</td>\n",
       "      <td>Wit Studio</td>\n",
       "      <td>Game</td>\n",
       "      <td>6.67</td>\n",
       "      <td>3840</td>\n",
       "      <td>871129</td>\n",
       "      <td>9746</td>\n",
       "      <td>2015-08-13</td>\n",
       "      <td>2025-12-22</td>\n",
       "      <td>46</td>\n",
       "      <td>Saturday</td>\n",
       "      <td>Bandai Namco, Aniplex</td>\n",
       "      <td>Funimation, Crunchyroll</td>\n",
       "      <td>7.85</td>\n",
       "      <td>18212</td>\n",
       "      <td>Simple attack radio mission enjoy know. Find e...</td>\n",
       "    </tr>\n",
       "    <tr>\n",
       "      <th>3</th>\n",
       "      <td>4</td>\n",
       "      <td>Himself forward recent</td>\n",
       "      <td>Supernatural, Drama</td>\n",
       "      <td>92</td>\n",
       "      <td>OVA</td>\n",
       "      <td>Wit Studio</td>\n",
       "      <td>Game</td>\n",
       "      <td>8.34</td>\n",
       "      <td>3144</td>\n",
       "      <td>515087</td>\n",
       "      <td>13067</td>\n",
       "      <td>2017-07-18</td>\n",
       "      <td>2029-04-14</td>\n",
       "      <td>57</td>\n",
       "      <td>Thursday</td>\n",
       "      <td>Kadokawa, Bandai Namco</td>\n",
       "      <td>Netflix</td>\n",
       "      <td>8.79</td>\n",
       "      <td>8818</td>\n",
       "      <td>Second shoulder pattern. Among reality central...</td>\n",
       "    </tr>\n",
       "    <tr>\n",
       "      <th>4</th>\n",
       "      <td>5</td>\n",
       "      <td>Out increase choose</td>\n",
       "      <td>Adventure, Drama, Supernatural</td>\n",
       "      <td>41</td>\n",
       "      <td>TV</td>\n",
       "      <td>A-1 Pictures</td>\n",
       "      <td>Webtoon</td>\n",
       "      <td>6.45</td>\n",
       "      <td>3857</td>\n",
       "      <td>622931</td>\n",
       "      <td>17013</td>\n",
       "      <td>2016-03-24</td>\n",
       "      <td>2026-12-15</td>\n",
       "      <td>52</td>\n",
       "      <td>Sunday</td>\n",
       "      <td>TV Tokyo, Kodansha</td>\n",
       "      <td>Viz Media, Funimation</td>\n",
       "      <td>6.44</td>\n",
       "      <td>10012</td>\n",
       "      <td>During none here. Decision chair point positio...</td>\n",
       "    </tr>\n",
       "  </tbody>\n",
       "</table>\n",
       "</div>"
      ],
      "text/plain": [
       "  Anime_ID                        Title                           Genre  \\\n",
       "0        1             Teach under work         Fantasy, Horror, Action   \n",
       "1        2                   Phone star                 Romance, Action   \n",
       "2        3  Guy explain human everybody                   Drama, Comedy   \n",
       "3        4       Himself forward recent             Supernatural, Drama   \n",
       "4        5          Out increase choose  Adventure, Drama, Supernatural   \n",
       "\n",
       "  Episodes Type        Studio   Source Rating Popularity Members Favorites  \\\n",
       "0       36   TV     J.C.Staff  Webtoon   7.67       4954  236999     39747   \n",
       "1       58  ONA      Ufotable     Game   7.83       5484  450384     41331   \n",
       "2        2  ONA    Wit Studio     Game   6.67       3840  871129      9746   \n",
       "3       92  OVA    Wit Studio     Game   8.34       3144  515087     13067   \n",
       "4       41   TV  A-1 Pictures  Webtoon   6.45       3857  622931     17013   \n",
       "\n",
       "  Airing_Start  Airing_End Duration Broadcast_Day               Producers  \\\n",
       "0   2018-12-12  2026-05-17       54        Monday      TV Tokyo, Kodansha   \n",
       "1   2024-08-31  2027-02-25       50        Sunday                Kodansha   \n",
       "2   2015-08-13  2025-12-22       46      Saturday   Bandai Namco, Aniplex   \n",
       "3   2017-07-18  2029-04-14       57      Thursday  Kadokawa, Bandai Namco   \n",
       "4   2016-03-24  2026-12-15       52        Sunday      TV Tokyo, Kodansha   \n",
       "\n",
       "                 Licensors Score   Rank  \\\n",
       "0                Viz Media  5.42  13948   \n",
       "1                Viz Media  6.98  14869   \n",
       "2  Funimation, Crunchyroll  7.85  18212   \n",
       "3                  Netflix  8.79   8818   \n",
       "4    Viz Media, Funimation  6.44  10012   \n",
       "\n",
       "                                            Synopsis  \n",
       "0  Order per far even something of never. Natural...  \n",
       "1  Realize mean situation high sing. Seek could e...  \n",
       "2  Simple attack radio mission enjoy know. Find e...  \n",
       "3  Second shoulder pattern. Among reality central...  \n",
       "4  During none here. Decision chair point positio...  "
      ]
     },
     "execution_count": 3,
     "metadata": {},
     "output_type": "execute_result"
    }
   ],
   "source": [
    "anime_data = pd.read_csv(\"anime_dataset.csv\", low_memory = False) \n",
    "anime_data.head()"
   ]
  },
  {
   "cell_type": "code",
   "execution_count": 4,
   "id": "452cff95-3f62-4acb-b89a-84cbf0eca9e3",
   "metadata": {},
   "outputs": [
    {
     "data": {
      "text/plain": [
       "Index(['Anime_ID', 'Title', 'Genre', 'Episodes', 'Type', 'Studio', 'Source',\n",
       "       'Rating', 'Popularity', 'Members', 'Favorites', 'Airing_Start',\n",
       "       'Airing_End', 'Duration', 'Broadcast_Day', 'Producers', 'Licensors',\n",
       "       'Score', 'Rank', 'Synopsis'],\n",
       "      dtype='object')"
      ]
     },
     "execution_count": 4,
     "metadata": {},
     "output_type": "execute_result"
    }
   ],
   "source": [
    "anime_data.columns"
   ]
  },
  {
   "cell_type": "code",
   "execution_count": 5,
   "id": "3870e5b7-0e0c-4bcb-83e9-306b1a534d45",
   "metadata": {},
   "outputs": [
    {
     "data": {
      "text/plain": [
       "Anime_ID         object\n",
       "Title            object\n",
       "Genre            object\n",
       "Episodes         object\n",
       "Type             object\n",
       "Studio           object\n",
       "Source           object\n",
       "Rating           object\n",
       "Popularity       object\n",
       "Members          object\n",
       "Favorites        object\n",
       "Airing_Start     object\n",
       "Airing_End       object\n",
       "Duration         object\n",
       "Broadcast_Day    object\n",
       "Producers        object\n",
       "Licensors        object\n",
       "Score            object\n",
       "Rank             object\n",
       "Synopsis         object\n",
       "dtype: object"
      ]
     },
     "execution_count": 5,
     "metadata": {},
     "output_type": "execute_result"
    }
   ],
   "source": [
    "anime_data.dtypes"
   ]
  },
  {
   "cell_type": "markdown",
   "id": "a30fe669-0bab-4bf8-bb31-e4a6e43d7231",
   "metadata": {},
   "source": [
    "<p style = \"background-color: #dce8e7; font-size:20px\"> According to the observation on the results, the following data cleaning can be done on the dataset: </p>\n",
    "<section style = \"font-size:20px\">\n",
    "<ul>\n",
    "    <li> There are 20 columns in the dataset and all of them has <b><i>object</i></b> data type.  </li>\n",
    "    <li> <b>Anime_ID</b> column should be <i>index</i> column </li>\n",
    "    <li> <b>Episodes, Popularity, Members, Favorites</b> and <b>Rank</b>  columns must be converted to <b><i>int</i></b> type. </li>\n",
    "    <li> <b> Rating, Duration, Score </b> columns must be converted to <b><i>float</i></b>. </li>\n",
    "    <li> <b>Synopsis</b> column describes the anime and is not beneficial in our analysis; therefore, we should drop it. </li>\n",
    "    <li> <b> Airing_Start, Airing_End</b> columns must be converted to <b><i>datetime</i></b>. </li>\n",
    "\n",
    "</ul>\n",
    "</section>"
   ]
  },
  {
   "cell_type": "code",
   "execution_count": 6,
   "id": "a3d6d77e-f4da-41e9-a838-952f64fee548",
   "metadata": {},
   "outputs": [
    {
     "data": {
      "text/html": [
       "<div>\n",
       "<style scoped>\n",
       "    .dataframe tbody tr th:only-of-type {\n",
       "        vertical-align: middle;\n",
       "    }\n",
       "\n",
       "    .dataframe tbody tr th {\n",
       "        vertical-align: top;\n",
       "    }\n",
       "\n",
       "    .dataframe thead th {\n",
       "        text-align: right;\n",
       "    }\n",
       "</style>\n",
       "<table border=\"1\" class=\"dataframe\">\n",
       "  <thead>\n",
       "    <tr style=\"text-align: right;\">\n",
       "      <th></th>\n",
       "      <th>Title</th>\n",
       "      <th>Genre</th>\n",
       "      <th>Episodes</th>\n",
       "      <th>Type</th>\n",
       "      <th>Studio</th>\n",
       "      <th>Source</th>\n",
       "      <th>Rating</th>\n",
       "      <th>Popularity</th>\n",
       "      <th>Members</th>\n",
       "      <th>Favorites</th>\n",
       "      <th>Airing_Start</th>\n",
       "      <th>Airing_End</th>\n",
       "      <th>Duration</th>\n",
       "      <th>Broadcast_Day</th>\n",
       "      <th>Producers</th>\n",
       "      <th>Licensors</th>\n",
       "      <th>Score</th>\n",
       "      <th>Rank</th>\n",
       "      <th>Synopsis</th>\n",
       "    </tr>\n",
       "    <tr>\n",
       "      <th>Anime_ID</th>\n",
       "      <th></th>\n",
       "      <th></th>\n",
       "      <th></th>\n",
       "      <th></th>\n",
       "      <th></th>\n",
       "      <th></th>\n",
       "      <th></th>\n",
       "      <th></th>\n",
       "      <th></th>\n",
       "      <th></th>\n",
       "      <th></th>\n",
       "      <th></th>\n",
       "      <th></th>\n",
       "      <th></th>\n",
       "      <th></th>\n",
       "      <th></th>\n",
       "      <th></th>\n",
       "      <th></th>\n",
       "      <th></th>\n",
       "    </tr>\n",
       "  </thead>\n",
       "  <tbody>\n",
       "    <tr>\n",
       "      <th>1</th>\n",
       "      <td>Teach under work</td>\n",
       "      <td>Fantasy, Horror, Action</td>\n",
       "      <td>36</td>\n",
       "      <td>TV</td>\n",
       "      <td>J.C.Staff</td>\n",
       "      <td>Webtoon</td>\n",
       "      <td>7.67</td>\n",
       "      <td>4954</td>\n",
       "      <td>236999</td>\n",
       "      <td>39747</td>\n",
       "      <td>2018-12-12</td>\n",
       "      <td>2026-05-17</td>\n",
       "      <td>54</td>\n",
       "      <td>Monday</td>\n",
       "      <td>TV Tokyo, Kodansha</td>\n",
       "      <td>Viz Media</td>\n",
       "      <td>5.42</td>\n",
       "      <td>13948</td>\n",
       "      <td>Order per far even something of never. Natural...</td>\n",
       "    </tr>\n",
       "    <tr>\n",
       "      <th>2</th>\n",
       "      <td>Phone star</td>\n",
       "      <td>Romance, Action</td>\n",
       "      <td>58</td>\n",
       "      <td>ONA</td>\n",
       "      <td>Ufotable</td>\n",
       "      <td>Game</td>\n",
       "      <td>7.83</td>\n",
       "      <td>5484</td>\n",
       "      <td>450384</td>\n",
       "      <td>41331</td>\n",
       "      <td>2024-08-31</td>\n",
       "      <td>2027-02-25</td>\n",
       "      <td>50</td>\n",
       "      <td>Sunday</td>\n",
       "      <td>Kodansha</td>\n",
       "      <td>Viz Media</td>\n",
       "      <td>6.98</td>\n",
       "      <td>14869</td>\n",
       "      <td>Realize mean situation high sing. Seek could e...</td>\n",
       "    </tr>\n",
       "  </tbody>\n",
       "</table>\n",
       "</div>"
      ],
      "text/plain": [
       "                     Title                    Genre Episodes Type     Studio  \\\n",
       "Anime_ID                                                                       \n",
       "1         Teach under work  Fantasy, Horror, Action       36   TV  J.C.Staff   \n",
       "2               Phone star          Romance, Action       58  ONA   Ufotable   \n",
       "\n",
       "           Source Rating Popularity Members Favorites Airing_Start  \\\n",
       "Anime_ID                                                             \n",
       "1         Webtoon   7.67       4954  236999     39747   2018-12-12   \n",
       "2            Game   7.83       5484  450384     41331   2024-08-31   \n",
       "\n",
       "          Airing_End Duration Broadcast_Day           Producers  Licensors  \\\n",
       "Anime_ID                                                                     \n",
       "1         2026-05-17       54        Monday  TV Tokyo, Kodansha  Viz Media   \n",
       "2         2027-02-25       50        Sunday            Kodansha  Viz Media   \n",
       "\n",
       "         Score   Rank                                           Synopsis  \n",
       "Anime_ID                                                                  \n",
       "1         5.42  13948  Order per far even something of never. Natural...  \n",
       "2         6.98  14869  Realize mean situation high sing. Seek could e...  "
      ]
     },
     "execution_count": 6,
     "metadata": {},
     "output_type": "execute_result"
    }
   ],
   "source": [
    "# Task 1. Switch Anime_ID column to index column\n",
    "anime_data = anime_data.set_index(\"Anime_ID\")\n",
    "anime_data.head(2)"
   ]
  },
  {
   "cell_type": "markdown",
   "id": "28ffd656-b378-47b8-adc1-3862703c571d",
   "metadata": {},
   "source": [
    "<font size = 3><p>\n",
    "<b>Important Note:</b> \n",
    "* We can set our index column when we import our dataset using the following code:\n",
    "```python\n",
    "    data = pd.read_csv(\"anime.csv\", index_col = \"Anime_ID\")\n",
    "```\n",
    "* If we forget to do it during the import process, we can manually change it using the following code:\n",
    "```python\n",
    "    data = data.set_index(\"Anime_ID\")\n",
    "```\n",
    "* There is another function called \"reset_index\" in pandas library which takes the index column and converts it back to a standard column and restore the numeric indexing.\n",
    "```python\n",
    "    data = data.reset_index() # removes the assigned index, convert it to column \n",
    "                              # restores the default index\n",
    "```\n",
    "\n",
    "</p> </font>"
   ]
  },
  {
   "cell_type": "code",
   "execution_count": 8,
   "id": "d01dfd13-919b-4ad6-8016-42501a0e7747",
   "metadata": {},
   "outputs": [
    {
     "data": {
      "text/plain": [
       "Title            object\n",
       "Genre            object\n",
       "Episodes          int32\n",
       "Type             object\n",
       "Studio           object\n",
       "Source           object\n",
       "Rating           object\n",
       "Popularity        int32\n",
       "Members           int32\n",
       "Favorites         int32\n",
       "Airing_Start     object\n",
       "Airing_End       object\n",
       "Duration         object\n",
       "Broadcast_Day    object\n",
       "Producers        object\n",
       "Licensors        object\n",
       "Score            object\n",
       "Rank              int32\n",
       "Synopsis         object\n",
       "dtype: object"
      ]
     },
     "execution_count": 8,
     "metadata": {},
     "output_type": "execute_result"
    }
   ],
   "source": [
    "# Task 2. (a)\n",
    "# Convert Episodes, Popularity, Members, Favorites and Rank columns to integer type\n",
    "anime_data[[\"Episodes\", \"Popularity\", \"Members\", \"Favorites\", \"Rank\"]] = anime_data[[\"Episodes\", \"Popularity\", \"Members\", \n",
    "                                    \"Favorites\", \"Rank\"]].apply(pd.to_numeric, errors = \"coerce\").fillna(0).astype(int)\n",
    "anime_data.dtypes"
   ]
  },
  {
   "cell_type": "code",
   "execution_count": 9,
   "id": "cd17a181-19a9-4b6f-8dd9-497a0e33bf33",
   "metadata": {},
   "outputs": [
    {
     "data": {
      "text/plain": [
       "Title             object\n",
       "Genre             object\n",
       "Episodes           int32\n",
       "Type              object\n",
       "Studio            object\n",
       "Source            object\n",
       "Rating           float64\n",
       "Popularity         int32\n",
       "Members            int32\n",
       "Favorites          int32\n",
       "Airing_Start      object\n",
       "Airing_End        object\n",
       "Duration         float64\n",
       "Broadcast_Day     object\n",
       "Producers         object\n",
       "Licensors         object\n",
       "Score            float64\n",
       "Rank               int32\n",
       "Synopsis          object\n",
       "dtype: object"
      ]
     },
     "execution_count": 9,
     "metadata": {},
     "output_type": "execute_result"
    }
   ],
   "source": [
    "# Task 3. \n",
    "# Convert Rating, Duration, Score columns to float.\n",
    "columns_to_convert = [\"Rating\", \"Duration\", \"Score\"]\n",
    "anime_data[columns_to_convert] = anime_data[columns_to_convert].apply(pd.to_numeric, errors = \"coerce\").fillna(0)\n",
    "# check whether data types changed or not\n",
    "anime_data.dtypes"
   ]
  },
  {
   "cell_type": "code",
   "execution_count": 10,
   "id": "e2c5a477-ac56-47f2-8ad5-153b25003936",
   "metadata": {},
   "outputs": [
    {
     "data": {
      "text/html": [
       "<div>\n",
       "<style scoped>\n",
       "    .dataframe tbody tr th:only-of-type {\n",
       "        vertical-align: middle;\n",
       "    }\n",
       "\n",
       "    .dataframe tbody tr th {\n",
       "        vertical-align: top;\n",
       "    }\n",
       "\n",
       "    .dataframe thead th {\n",
       "        text-align: right;\n",
       "    }\n",
       "</style>\n",
       "<table border=\"1\" class=\"dataframe\">\n",
       "  <thead>\n",
       "    <tr style=\"text-align: right;\">\n",
       "      <th></th>\n",
       "      <th>Title</th>\n",
       "      <th>Genre</th>\n",
       "      <th>Episodes</th>\n",
       "      <th>Type</th>\n",
       "      <th>Studio</th>\n",
       "      <th>Source</th>\n",
       "      <th>Rating</th>\n",
       "      <th>Popularity</th>\n",
       "      <th>Members</th>\n",
       "      <th>Favorites</th>\n",
       "      <th>Airing_Start</th>\n",
       "      <th>Airing_End</th>\n",
       "      <th>Duration</th>\n",
       "      <th>Broadcast_Day</th>\n",
       "      <th>Producers</th>\n",
       "      <th>Licensors</th>\n",
       "      <th>Score</th>\n",
       "      <th>Rank</th>\n",
       "    </tr>\n",
       "    <tr>\n",
       "      <th>Anime_ID</th>\n",
       "      <th></th>\n",
       "      <th></th>\n",
       "      <th></th>\n",
       "      <th></th>\n",
       "      <th></th>\n",
       "      <th></th>\n",
       "      <th></th>\n",
       "      <th></th>\n",
       "      <th></th>\n",
       "      <th></th>\n",
       "      <th></th>\n",
       "      <th></th>\n",
       "      <th></th>\n",
       "      <th></th>\n",
       "      <th></th>\n",
       "      <th></th>\n",
       "      <th></th>\n",
       "      <th></th>\n",
       "    </tr>\n",
       "  </thead>\n",
       "  <tbody>\n",
       "    <tr>\n",
       "      <th>1</th>\n",
       "      <td>Teach under work</td>\n",
       "      <td>Fantasy, Horror, Action</td>\n",
       "      <td>36</td>\n",
       "      <td>TV</td>\n",
       "      <td>J.C.Staff</td>\n",
       "      <td>Webtoon</td>\n",
       "      <td>7.67</td>\n",
       "      <td>4954</td>\n",
       "      <td>236999</td>\n",
       "      <td>39747</td>\n",
       "      <td>2018-12-12</td>\n",
       "      <td>2026-05-17</td>\n",
       "      <td>54.0</td>\n",
       "      <td>Monday</td>\n",
       "      <td>TV Tokyo, Kodansha</td>\n",
       "      <td>Viz Media</td>\n",
       "      <td>5.42</td>\n",
       "      <td>13948</td>\n",
       "    </tr>\n",
       "    <tr>\n",
       "      <th>2</th>\n",
       "      <td>Phone star</td>\n",
       "      <td>Romance, Action</td>\n",
       "      <td>58</td>\n",
       "      <td>ONA</td>\n",
       "      <td>Ufotable</td>\n",
       "      <td>Game</td>\n",
       "      <td>7.83</td>\n",
       "      <td>5484</td>\n",
       "      <td>450384</td>\n",
       "      <td>41331</td>\n",
       "      <td>2024-08-31</td>\n",
       "      <td>2027-02-25</td>\n",
       "      <td>50.0</td>\n",
       "      <td>Sunday</td>\n",
       "      <td>Kodansha</td>\n",
       "      <td>Viz Media</td>\n",
       "      <td>6.98</td>\n",
       "      <td>14869</td>\n",
       "    </tr>\n",
       "  </tbody>\n",
       "</table>\n",
       "</div>"
      ],
      "text/plain": [
       "                     Title                    Genre  Episodes Type     Studio  \\\n",
       "Anime_ID                                                                        \n",
       "1         Teach under work  Fantasy, Horror, Action        36   TV  J.C.Staff   \n",
       "2               Phone star          Romance, Action        58  ONA   Ufotable   \n",
       "\n",
       "           Source  Rating  Popularity  Members  Favorites Airing_Start  \\\n",
       "Anime_ID                                                                 \n",
       "1         Webtoon    7.67        4954   236999      39747   2018-12-12   \n",
       "2            Game    7.83        5484   450384      41331   2024-08-31   \n",
       "\n",
       "          Airing_End  Duration Broadcast_Day           Producers  Licensors  \\\n",
       "Anime_ID                                                                      \n",
       "1         2026-05-17      54.0        Monday  TV Tokyo, Kodansha  Viz Media   \n",
       "2         2027-02-25      50.0        Sunday            Kodansha  Viz Media   \n",
       "\n",
       "          Score   Rank  \n",
       "Anime_ID                \n",
       "1          5.42  13948  \n",
       "2          6.98  14869  "
      ]
     },
     "execution_count": 10,
     "metadata": {},
     "output_type": "execute_result"
    }
   ],
   "source": [
    "# Task 4. Drop the \"Synopsis\" column\n",
    "anime_data.drop(\"Synopsis\", axis = 1, inplace = True)\n",
    "anime_data.head(2)"
   ]
  },
  {
   "cell_type": "code",
   "execution_count": 11,
   "id": "f6fd4bdb-86ba-44fe-9862-0d2b9d0990e0",
   "metadata": {},
   "outputs": [
    {
     "data": {
      "text/plain": [
       "Airing_Start    datetime64[ns]\n",
       "Airing_End      datetime64[ns]\n",
       "dtype: object"
      ]
     },
     "execution_count": 11,
     "metadata": {},
     "output_type": "execute_result"
    }
   ],
   "source": [
    "# Task 5. Convert \"Airing_Start\", \"Airing_End\" columns to \"datetime\" type.\n",
    "convert_to_datetime = [\"Airing_Start\", \"Airing_End\"]\n",
    "anime_data[convert_to_datetime] = anime_data[convert_to_datetime].apply(pd.to_datetime, errors = \"coerce\")\n",
    "# verify the change in the dtype\n",
    "anime_data[convert_to_datetime].dtypes"
   ]
  },
  {
   "cell_type": "code",
   "execution_count": 12,
   "id": "b261f619-a523-49eb-a3d2-3bac8b31c964",
   "metadata": {},
   "outputs": [
    {
     "data": {
      "text/plain": [
       "Title                    object\n",
       "Genre                    object\n",
       "Episodes                  int32\n",
       "Type                     object\n",
       "Studio                   object\n",
       "Source                   object\n",
       "Rating                  float64\n",
       "Popularity                int32\n",
       "Members                   int32\n",
       "Favorites                 int32\n",
       "Airing_Start     datetime64[ns]\n",
       "Airing_End       datetime64[ns]\n",
       "Duration                float64\n",
       "Broadcast_Day            object\n",
       "Producers                object\n",
       "Licensors                object\n",
       "Score                   float64\n",
       "Rank                      int32\n",
       "dtype: object"
      ]
     },
     "execution_count": 12,
     "metadata": {},
     "output_type": "execute_result"
    }
   ],
   "source": [
    "# Verify all conversions are done, successfully.\n",
    "anime_data.dtypes"
   ]
  },
  {
   "cell_type": "markdown",
   "id": "df625715-bb3e-4bfb-90f2-2b73359aa1b8",
   "metadata": {},
   "source": [
    "<section style = \"background-color:#226657; color:#226657\">. </section>"
   ]
  },
  {
   "cell_type": "markdown",
   "id": "4cf01706-7ca9-4224-9f16-90ebe1b87bc5",
   "metadata": {},
   "source": [
    "# Handling Missing Values"
   ]
  },
  {
   "cell_type": "markdown",
   "id": "738570ff-9797-4d36-9ee6-f12a321d6696",
   "metadata": {},
   "source": [
    "<font size = 3><p> Before handling missing values, check how many missing values are there in each column </p></font>"
   ]
  },
  {
   "cell_type": "code",
   "execution_count": 13,
   "id": "cbf56953-f173-468e-9ea5-04c8e6344f2c",
   "metadata": {},
   "outputs": [
    {
     "data": {
      "text/plain": [
       "Title            34\n",
       "Genre             0\n",
       "Episodes          0\n",
       "Type              0\n",
       "Studio            0\n",
       "Source            0\n",
       "Rating            0\n",
       "Popularity        0\n",
       "Members           0\n",
       "Favorites         0\n",
       "Airing_Start      1\n",
       "Airing_End        1\n",
       "Duration          0\n",
       "Broadcast_Day     0\n",
       "Producers         0\n",
       "Licensors         0\n",
       "Score             0\n",
       "Rank              0\n",
       "dtype: int64"
      ]
     },
     "execution_count": 13,
     "metadata": {},
     "output_type": "execute_result"
    }
   ],
   "source": [
    "anime_data.isnull().sum()"
   ]
  },
  {
   "cell_type": "markdown",
   "id": "56c74e63-0bed-4795-9a7e-c985a64aeff0",
   "metadata": {},
   "source": [
    "<font size = 3> <p style = \"background-color:#dce8e7\">\n",
    "<b>Observations:</b> \n",
    "* 34 missing values in <b>Title</b> column. We can replace those with \"No Title\" string.\n",
    "* 1 missing value in <b>Airing_Start</b> and <b>Airing_End</b> columns. Just ignore them for now.\n",
    "</p>"
   ]
  },
  {
   "cell_type": "code",
   "execution_count": 15,
   "id": "d533fc28-3f24-48b9-8bfe-ae60468c1c77",
   "metadata": {},
   "outputs": [
    {
     "data": {
      "text/html": [
       "<div>\n",
       "<style scoped>\n",
       "    .dataframe tbody tr th:only-of-type {\n",
       "        vertical-align: middle;\n",
       "    }\n",
       "\n",
       "    .dataframe tbody tr th {\n",
       "        vertical-align: top;\n",
       "    }\n",
       "\n",
       "    .dataframe thead th {\n",
       "        text-align: right;\n",
       "    }\n",
       "</style>\n",
       "<table border=\"1\" class=\"dataframe\">\n",
       "  <thead>\n",
       "    <tr style=\"text-align: right;\">\n",
       "      <th></th>\n",
       "      <th>Title</th>\n",
       "      <th>Genre</th>\n",
       "      <th>Episodes</th>\n",
       "      <th>Type</th>\n",
       "      <th>Studio</th>\n",
       "      <th>Source</th>\n",
       "      <th>Rating</th>\n",
       "      <th>Popularity</th>\n",
       "      <th>Members</th>\n",
       "      <th>Favorites</th>\n",
       "      <th>Airing_Start</th>\n",
       "      <th>Airing_End</th>\n",
       "      <th>Duration</th>\n",
       "      <th>Broadcast_Day</th>\n",
       "      <th>Producers</th>\n",
       "      <th>Licensors</th>\n",
       "      <th>Score</th>\n",
       "      <th>Rank</th>\n",
       "    </tr>\n",
       "    <tr>\n",
       "      <th>Anime_ID</th>\n",
       "      <th></th>\n",
       "      <th></th>\n",
       "      <th></th>\n",
       "      <th></th>\n",
       "      <th></th>\n",
       "      <th></th>\n",
       "      <th></th>\n",
       "      <th></th>\n",
       "      <th></th>\n",
       "      <th></th>\n",
       "      <th></th>\n",
       "      <th></th>\n",
       "      <th></th>\n",
       "      <th></th>\n",
       "      <th></th>\n",
       "      <th></th>\n",
       "      <th></th>\n",
       "      <th></th>\n",
       "    </tr>\n",
       "  </thead>\n",
       "  <tbody>\n",
       "    <tr>\n",
       "      <th>587</th>\n",
       "      <td>No Title</td>\n",
       "      <td>Romance, Fantasy</td>\n",
       "      <td>23</td>\n",
       "      <td>ONA</td>\n",
       "      <td>A-1 Pictures</td>\n",
       "      <td>Webtoon</td>\n",
       "      <td>9.27</td>\n",
       "      <td>4969</td>\n",
       "      <td>469007</td>\n",
       "      <td>31512</td>\n",
       "      <td>2022-02-26</td>\n",
       "      <td>2029-05-23</td>\n",
       "      <td>38.0</td>\n",
       "      <td>Friday</td>\n",
       "      <td>Shueisha</td>\n",
       "      <td>Sentai Filmworks</td>\n",
       "      <td>7.82</td>\n",
       "      <td>3367</td>\n",
       "    </tr>\n",
       "    <tr>\n",
       "      <th>16192</th>\n",
       "      <td>No Title</td>\n",
       "      <td>Supernatural, Drama, Action</td>\n",
       "      <td>85</td>\n",
       "      <td>Special</td>\n",
       "      <td>Bones</td>\n",
       "      <td>Webtoon</td>\n",
       "      <td>9.08</td>\n",
       "      <td>4670</td>\n",
       "      <td>467067</td>\n",
       "      <td>45340</td>\n",
       "      <td>2016-11-15</td>\n",
       "      <td>2028-01-20</td>\n",
       "      <td>42.0</td>\n",
       "      <td>Thursday</td>\n",
       "      <td>Shueisha, Bandai Namco</td>\n",
       "      <td>Viz Media, Funimation</td>\n",
       "      <td>8.14</td>\n",
       "      <td>17547</td>\n",
       "    </tr>\n",
       "  </tbody>\n",
       "</table>\n",
       "</div>"
      ],
      "text/plain": [
       "             Title                        Genre  Episodes     Type  \\\n",
       "Anime_ID                                                             \n",
       "587       No Title             Romance, Fantasy        23      ONA   \n",
       "16192     No Title  Supernatural, Drama, Action        85  Special   \n",
       "\n",
       "                Studio   Source  Rating  Popularity  Members  Favorites  \\\n",
       "Anime_ID                                                                  \n",
       "587       A-1 Pictures  Webtoon    9.27        4969   469007      31512   \n",
       "16192            Bones  Webtoon    9.08        4670   467067      45340   \n",
       "\n",
       "         Airing_Start Airing_End  Duration Broadcast_Day  \\\n",
       "Anime_ID                                                   \n",
       "587        2022-02-26 2029-05-23      38.0        Friday   \n",
       "16192      2016-11-15 2028-01-20      42.0      Thursday   \n",
       "\n",
       "                       Producers              Licensors  Score   Rank  \n",
       "Anime_ID                                                               \n",
       "587                     Shueisha       Sentai Filmworks   7.82   3367  \n",
       "16192     Shueisha, Bandai Namco  Viz Media, Funimation   8.14  17547  "
      ]
     },
     "execution_count": 15,
     "metadata": {},
     "output_type": "execute_result"
    }
   ],
   "source": [
    "# Task 1. Show the columns with missing values in \"Title\" column, then replace it with \"No Title\" string.\n",
    "# data[data[\"Title\"].isnull()]\n",
    "\n",
    "anime_data[\"Title\"].fillna(\"No Title\", inplace = True)\n",
    "anime_data[anime_data[\"Title\"] == \"No Title\"].head(2)"
   ]
  },
  {
   "cell_type": "code",
   "execution_count": 16,
   "id": "ce114751-b93e-4b0a-9953-3741c50c45aa",
   "metadata": {},
   "outputs": [
    {
     "data": {
      "text/plain": [
       "Title            0\n",
       "Genre            0\n",
       "Episodes         0\n",
       "Type             0\n",
       "Studio           0\n",
       "Source           0\n",
       "Rating           0\n",
       "Popularity       0\n",
       "Members          0\n",
       "Favorites        0\n",
       "Airing_Start     1\n",
       "Airing_End       1\n",
       "Duration         0\n",
       "Broadcast_Day    0\n",
       "Producers        0\n",
       "Licensors        0\n",
       "Score            0\n",
       "Rank             0\n",
       "dtype: int64"
      ]
     },
     "execution_count": 16,
     "metadata": {},
     "output_type": "execute_result"
    }
   ],
   "source": [
    "anime_data.isnull().sum()"
   ]
  },
  {
   "cell_type": "code",
   "execution_count": 17,
   "id": "704e79aa-7f69-4c7e-9b32-a3f6beca2485",
   "metadata": {},
   "outputs": [
    {
     "data": {
      "text/html": [
       "<div>\n",
       "<style scoped>\n",
       "    .dataframe tbody tr th:only-of-type {\n",
       "        vertical-align: middle;\n",
       "    }\n",
       "\n",
       "    .dataframe tbody tr th {\n",
       "        vertical-align: top;\n",
       "    }\n",
       "\n",
       "    .dataframe thead th {\n",
       "        text-align: right;\n",
       "    }\n",
       "</style>\n",
       "<table border=\"1\" class=\"dataframe\">\n",
       "  <thead>\n",
       "    <tr style=\"text-align: right;\">\n",
       "      <th></th>\n",
       "      <th>Title</th>\n",
       "      <th>Genre</th>\n",
       "      <th>Episodes</th>\n",
       "      <th>Type</th>\n",
       "      <th>Studio</th>\n",
       "      <th>Source</th>\n",
       "      <th>Rating</th>\n",
       "      <th>Popularity</th>\n",
       "      <th>Members</th>\n",
       "      <th>Favorites</th>\n",
       "      <th>Airing_Start</th>\n",
       "      <th>Airing_End</th>\n",
       "      <th>Duration</th>\n",
       "      <th>Broadcast_Day</th>\n",
       "      <th>Producers</th>\n",
       "      <th>Licensors</th>\n",
       "      <th>Score</th>\n",
       "      <th>Rank</th>\n",
       "    </tr>\n",
       "    <tr>\n",
       "      <th>Anime_ID</th>\n",
       "      <th></th>\n",
       "      <th></th>\n",
       "      <th></th>\n",
       "      <th></th>\n",
       "      <th></th>\n",
       "      <th></th>\n",
       "      <th></th>\n",
       "      <th></th>\n",
       "      <th></th>\n",
       "      <th></th>\n",
       "      <th></th>\n",
       "      <th></th>\n",
       "      <th></th>\n",
       "      <th></th>\n",
       "      <th></th>\n",
       "      <th></th>\n",
       "      <th></th>\n",
       "      <th></th>\n",
       "    </tr>\n",
       "  </thead>\n",
       "  <tbody>\n",
       "    <tr>\n",
       "      <th>Anime_ID</th>\n",
       "      <td>Title</td>\n",
       "      <td>Genre</td>\n",
       "      <td>0</td>\n",
       "      <td>Type</td>\n",
       "      <td>Studio</td>\n",
       "      <td>Source</td>\n",
       "      <td>0.0</td>\n",
       "      <td>0</td>\n",
       "      <td>0</td>\n",
       "      <td>0</td>\n",
       "      <td>NaT</td>\n",
       "      <td>NaT</td>\n",
       "      <td>0.0</td>\n",
       "      <td>Broadcast_Day</td>\n",
       "      <td>Producers</td>\n",
       "      <td>Licensors</td>\n",
       "      <td>0.0</td>\n",
       "      <td>0</td>\n",
       "    </tr>\n",
       "  </tbody>\n",
       "</table>\n",
       "</div>"
      ],
      "text/plain": [
       "          Title  Genre  Episodes  Type  Studio  Source  Rating  Popularity  \\\n",
       "Anime_ID                                                                     \n",
       "Anime_ID  Title  Genre         0  Type  Studio  Source     0.0           0   \n",
       "\n",
       "          Members  Favorites Airing_Start Airing_End  Duration  Broadcast_Day  \\\n",
       "Anime_ID                                                                        \n",
       "Anime_ID        0          0          NaT        NaT       0.0  Broadcast_Day   \n",
       "\n",
       "          Producers  Licensors  Score  Rank  \n",
       "Anime_ID                                     \n",
       "Anime_ID  Producers  Licensors    0.0     0  "
      ]
     },
     "execution_count": 17,
     "metadata": {},
     "output_type": "execute_result"
    }
   ],
   "source": [
    "# Task 2. Drop the column where Airing_Start is null\n",
    "anime_data[anime_data[\"Airing_Start\"].isnull()]"
   ]
  },
  {
   "cell_type": "code",
   "execution_count": 18,
   "id": "32fbd30c-b1af-494b-9a4b-9cf78b40702c",
   "metadata": {},
   "outputs": [],
   "source": [
    "anime_data.drop(anime_data[anime_data[\"Genre\"] == \"Genre\"].index, inplace = True)"
   ]
  },
  {
   "cell_type": "markdown",
   "id": "a9199d63-bb46-4027-95b4-49457ec3efa6",
   "metadata": {},
   "source": [
    "<p style = \"color: #518566; font-size:20px; font-weight:bold\">Missing values are handled, successfully! </font> </p>"
   ]
  },
  {
   "cell_type": "markdown",
   "id": "c36ab141-212a-42f3-917a-deb976dcac10",
   "metadata": {},
   "source": [
    "<section style = \"background-color:#226657; color:#226657\">. </section>"
   ]
  },
  {
   "cell_type": "markdown",
   "id": "60a5b01f-531e-4ceb-a208-036a24ae6e6e",
   "metadata": {},
   "source": [
    "# Box Plots"
   ]
  },
  {
   "cell_type": "markdown",
   "id": "248c3208-a5c2-4d0c-96a7-32b96fbf4b3d",
   "metadata": {},
   "source": [
    "<section style = \"background-color: #e9f2f1; font-size: 20px\">\n",
    "\n",
    "A <b>box plot</b>, also known as a <b>box-and-whisker plot </b>, is a statistical visualization used to display the distribution of a dataset and identify outliers. It summarizes key descriptive statistics such as the <i>minimum, first quartile (Q1), median (Q2), third quartile (Q3), and maximum values </i>. The whiskers extend from the box to show variability outside the upper and lower quartiles, while individual points beyond the whiskers indicate potential outliers. Box plots are particularly useful for comparing distributions across multiple categories and understanding data skewness and spread. In a box plot, the <b>x-axis typically represents a categorical variable</b>, such as different product types, genres, or groups, while the <b>y-axis represents a continuous numerical variable</b>, such as prices, ratings, or scores.  <b>(This can be vice versa, too)</b>. In Python, box plots can be drawn using pandas, matplotlib, and seaborn. The pandas library provides a quick way to generate box plots directly from a DataFrame using the <font color = \"red\"><b>boxplot()</b></font> method. Matplotlib offers more control and customization with the <font color = \"red\"> boxplot()</b></font> function but requires manual handling of DataFrame columns. Seaborn, on the other hand, is the most flexible and visually appealing option, allowing for grouped and colored box plots with minimal code using the <font color = \"red\"> <b>boxplot()</b></font> function. <i><u> Seaborn is particularly useful when working with complex datasets, as it provides built-in aesthetics and better integration with pandas DataFrames. </i></u>\n",
    "\n",
    "</section>"
   ]
  },
  {
   "cell_type": "markdown",
   "id": "d37ea8f3-d9f4-48c0-bfbb-8bce375aeb84",
   "metadata": {},
   "source": [
    "<h3 style = \"background-color:#e9f2f1; text-align: center\"> Example Box Plots </h3>\n",
    "<p>\n",
    "<img src = \"https://seaborn.pydata.org/_images/boxplot_3_0.png\" />\n",
    "<img src=\"https://mathsmadeeasy.co.uk/wp-content/uploads/2018/11/boxplots-figure-1-e1597247984531.png\" /> \n",
    "</p>"
   ]
  },
  {
   "cell_type": "markdown",
   "id": "4c005f5e-6c9b-4fff-8562-a0d15f6fa0ab",
   "metadata": {},
   "source": [
    "<h3 style = \"background-color:#e9f2f1; text-align: center\"> Box-plot with Matplotlib </h3>\n",
    "<font size = 4><p>The following box plot visualize genre - rating relationship.</p>  </font>"
   ]
  },
  {
   "cell_type": "code",
   "execution_count": 19,
   "id": "073b7996-c02f-489d-b62c-6ba5830d2375",
   "metadata": {},
   "outputs": [
    {
     "data": {
      "text/html": [
       "<div>\n",
       "<style scoped>\n",
       "    .dataframe tbody tr th:only-of-type {\n",
       "        vertical-align: middle;\n",
       "    }\n",
       "\n",
       "    .dataframe tbody tr th {\n",
       "        vertical-align: top;\n",
       "    }\n",
       "\n",
       "    .dataframe thead th {\n",
       "        text-align: right;\n",
       "    }\n",
       "</style>\n",
       "<table border=\"1\" class=\"dataframe\">\n",
       "  <thead>\n",
       "    <tr style=\"text-align: right;\">\n",
       "      <th></th>\n",
       "      <th>Genre</th>\n",
       "      <th>Count</th>\n",
       "    </tr>\n",
       "  </thead>\n",
       "  <tbody>\n",
       "    <tr>\n",
       "      <th>808</th>\n",
       "      <td>Sci-Fi</td>\n",
       "      <td>11044</td>\n",
       "    </tr>\n",
       "    <tr>\n",
       "      <th>0</th>\n",
       "      <td>Action</td>\n",
       "      <td>11006</td>\n",
       "    </tr>\n",
       "    <tr>\n",
       "      <th>1010</th>\n",
       "      <td>Supernatural</td>\n",
       "      <td>10980</td>\n",
       "    </tr>\n",
       "    <tr>\n",
       "      <th>909</th>\n",
       "      <td>Slice of Life</td>\n",
       "      <td>10951</td>\n",
       "    </tr>\n",
       "    <tr>\n",
       "      <th>505</th>\n",
       "      <td>Horror</td>\n",
       "      <td>10928</td>\n",
       "    </tr>\n",
       "  </tbody>\n",
       "</table>\n",
       "</div>"
      ],
      "text/plain": [
       "              Genre  Count\n",
       "808          Sci-Fi  11044\n",
       "0            Action  11006\n",
       "1010   Supernatural  10980\n",
       "909   Slice of Life  10951\n",
       "505          Horror  10928"
      ]
     },
     "execution_count": 19,
     "metadata": {},
     "output_type": "execute_result"
    }
   ],
   "source": [
    "genre_data = anime_data.groupby(\"Genre\").size().reset_index(name = \"Count\")\n",
    "genre_data.sort_values(\"Count\", ascending = False, inplace = True)\n",
    "genre_data.head(5)"
   ]
  },
  {
   "cell_type": "code",
   "execution_count": 20,
   "id": "26e6989e-0e50-4d6e-98de-1dc02feeae45",
   "metadata": {},
   "outputs": [],
   "source": [
    "top_genres = anime_data[\"Genre\"].value_counts().index[:5]"
   ]
  },
  {
   "cell_type": "code",
   "execution_count": 21,
   "id": "d8f7ce4c-8e0d-4f8a-9538-f6c4d0d965ac",
   "metadata": {},
   "outputs": [],
   "source": [
    "filtered_data = anime_data[anime_data[\"Genre\"].isin(top_genres)]"
   ]
  },
  {
   "cell_type": "code",
   "execution_count": 22,
   "id": "10460518-5460-49a1-805a-75cb825c21d8",
   "metadata": {
    "scrolled": true
   },
   "outputs": [
    {
     "data": {
      "image/png": "[encoded data removed]",
      "text/plain": [
       "<Figure size 1000x500 with 1 Axes>"
      ]
     },
     "metadata": {},
     "output_type": "display_data"
    }
   ],
   "source": [
    "plt.figure(figsize = (10,5))\n",
    "\n",
    "genres_rates = {genre: filtered_data[filtered_data[\"Genre\"] == genre][\"Rating\"] for genre in top_genres}\n",
    "plt.boxplot(x = genres_rates.values(), labels = genres_rates.keys(), vert = False, patch_artist = True)\n",
    "plt.show()\n"
   ]
  },
  {
   "cell_type": "markdown",
   "id": "f6efc8ed-df62-43b3-9680-36f5097b6e7c",
   "metadata": {},
   "source": [
    "<font size = 3> The box-plot tells that the top genres have almost the same ratings. This is normal, because we have chosen top 5 genres with the most films. Let's add 2 more genres, but this time with the lowest number of films.</font> "
   ]
  },
  {
   "cell_type": "code",
   "execution_count": 24,
   "id": "91fac006-0372-491b-9a7d-d2f52eb8bbab",
   "metadata": {},
   "outputs": [],
   "source": [
    "genre_data = anime_data.groupby(\"Genre\").size().reset_index(name = \"Count\")\n",
    "genre_data.sort_values(\"Count\", ascending = False, inplace = True)\n",
    "\n",
    "top_3_genres = genre_data.head(3)\n",
    "last_3_genres = genre_data.tail(3)\n",
    "\n",
    "genre_data = pd.concat([top_3_genres, last_3_genres])\n",
    "\n",
    "filtered_data = anime_data[anime_data[\"Genre\"].isin(genre_data[\"Genre\"])]\n"
   ]
  },
  {
   "cell_type": "code",
   "execution_count": 25,
   "id": "bc1ce854-330b-46e5-870d-5ade2f921ac3",
   "metadata": {},
   "outputs": [],
   "source": [
    "ratings_for_genres = {genre: filtered_data[filtered_data[\"Genre\"] == genre][\"Rating\"] for genre in genre_data[\"Genre\"]}"
   ]
  },
  {
   "cell_type": "code",
   "execution_count": 26,
   "id": "464f5979-ee21-4303-afca-d2c3ccb4437b",
   "metadata": {},
   "outputs": [
    {
     "data": {
      "text/plain": [
       "Text(0, 0.5, 'Ratings')"
      ]
     },
     "execution_count": 26,
     "metadata": {},
     "output_type": "execute_result"
    },
    {
     "data": {
      "image/png": "[encoded data removed]",
      "text/plain": [
       "<Figure size 2000x600 with 1 Axes>"
      ]
     },
     "metadata": {},
     "output_type": "display_data"
    }
   ],
   "source": [
    "plt.figure(figsize = (20,6))\n",
    "plt.boxplot(ratings_for_genres.values(), labels = ratings_for_genres.keys())\n",
    "plt.xlabel(\"Genres\")\n",
    "plt.ylabel(\"Ratings\")"
   ]
  },
  {
   "cell_type": "code",
   "execution_count": null,
   "id": "4909d27c-04b2-495b-8b4c-1c7235278342",
   "metadata": {},
   "outputs": [],
   "source": []
  },
  {
   "cell_type": "code",
   "execution_count": null,
   "id": "5253e61f-8cdf-46ce-a2ce-395354bcfdc6",
   "metadata": {},
   "outputs": [],
   "source": []
  },
  {
   "cell_type": "markdown",
   "id": "7a7e60b5-6a12-45a5-9ac7-3a7774198521",
   "metadata": {},
   "source": [
    "<h3 style = \"background-color:#e9f2f1; text-align: center; padding:15px\"> Box-plot with Seaborn </h3>\n",
    "<font size = 4><p>The following box plot visualize genre - rating relationship.</p>  </font>"
   ]
  },
  {
   "cell_type": "code",
   "execution_count": 27,
   "id": "f94487a3-7378-4ee3-a831-683e87fed265",
   "metadata": {},
   "outputs": [
    {
     "data": {
      "text/plain": [
       "<Axes: xlabel='Broadcast_Day', ylabel='Rating'>"
      ]
     },
     "execution_count": 27,
     "metadata": {},
     "output_type": "execute_result"
    },
    {
     "data": {
      "image/png": "[encoded data removed]",
      "text/plain": [
       "<Figure size 2000x1000 with 1 Axes>"
      ]
     },
     "metadata": {},
     "output_type": "display_data"
    }
   ],
   "source": [
    "plt.figure(figsize = (20,10))\n",
    "sns.boxplot(data = anime_data, x = anime_data[\"Broadcast_Day\"], y = anime_data[\"Rating\"])"
   ]
  },
  {
   "cell_type": "code",
   "execution_count": 28,
   "id": "a4facad7-42e7-418a-884c-848d435ed656",
   "metadata": {},
   "outputs": [
    {
     "data": {
      "text/html": [
       "<div>\n",
       "<style scoped>\n",
       "    .dataframe tbody tr th:only-of-type {\n",
       "        vertical-align: middle;\n",
       "    }\n",
       "\n",
       "    .dataframe tbody tr th {\n",
       "        vertical-align: top;\n",
       "    }\n",
       "\n",
       "    .dataframe thead th {\n",
       "        text-align: right;\n",
       "    }\n",
       "</style>\n",
       "<table border=\"1\" class=\"dataframe\">\n",
       "  <thead>\n",
       "    <tr style=\"text-align: right;\">\n",
       "      <th></th>\n",
       "      <th>Title</th>\n",
       "      <th>Genre</th>\n",
       "      <th>Episodes</th>\n",
       "      <th>Type</th>\n",
       "      <th>Studio</th>\n",
       "      <th>Source</th>\n",
       "      <th>Rating</th>\n",
       "      <th>Popularity</th>\n",
       "      <th>Members</th>\n",
       "      <th>Favorites</th>\n",
       "      <th>Airing_Start</th>\n",
       "      <th>Airing_End</th>\n",
       "      <th>Duration</th>\n",
       "      <th>Broadcast_Day</th>\n",
       "      <th>Producers</th>\n",
       "      <th>Licensors</th>\n",
       "      <th>Score</th>\n",
       "      <th>Rank</th>\n",
       "    </tr>\n",
       "    <tr>\n",
       "      <th>Anime_ID</th>\n",
       "      <th></th>\n",
       "      <th></th>\n",
       "      <th></th>\n",
       "      <th></th>\n",
       "      <th></th>\n",
       "      <th></th>\n",
       "      <th></th>\n",
       "      <th></th>\n",
       "      <th></th>\n",
       "      <th></th>\n",
       "      <th></th>\n",
       "      <th></th>\n",
       "      <th></th>\n",
       "      <th></th>\n",
       "      <th></th>\n",
       "      <th></th>\n",
       "      <th></th>\n",
       "      <th></th>\n",
       "    </tr>\n",
       "  </thead>\n",
       "  <tbody>\n",
       "    <tr>\n",
       "      <th>1</th>\n",
       "      <td>Teach under work</td>\n",
       "      <td>Fantasy, Horror, Action</td>\n",
       "      <td>36</td>\n",
       "      <td>TV</td>\n",
       "      <td>J.C.Staff</td>\n",
       "      <td>Webtoon</td>\n",
       "      <td>7.67</td>\n",
       "      <td>4954</td>\n",
       "      <td>236999</td>\n",
       "      <td>39747</td>\n",
       "      <td>2018-12-12</td>\n",
       "      <td>2026-05-17</td>\n",
       "      <td>54.0</td>\n",
       "      <td>Monday</td>\n",
       "      <td>TV Tokyo, Kodansha</td>\n",
       "      <td>Viz Media</td>\n",
       "      <td>5.42</td>\n",
       "      <td>13948</td>\n",
       "    </tr>\n",
       "    <tr>\n",
       "      <th>2</th>\n",
       "      <td>Phone star</td>\n",
       "      <td>Romance, Action</td>\n",
       "      <td>58</td>\n",
       "      <td>ONA</td>\n",
       "      <td>Ufotable</td>\n",
       "      <td>Game</td>\n",
       "      <td>7.83</td>\n",
       "      <td>5484</td>\n",
       "      <td>450384</td>\n",
       "      <td>41331</td>\n",
       "      <td>2024-08-31</td>\n",
       "      <td>2027-02-25</td>\n",
       "      <td>50.0</td>\n",
       "      <td>Sunday</td>\n",
       "      <td>Kodansha</td>\n",
       "      <td>Viz Media</td>\n",
       "      <td>6.98</td>\n",
       "      <td>14869</td>\n",
       "    </tr>\n",
       "  </tbody>\n",
       "</table>\n",
       "</div>"
      ],
      "text/plain": [
       "                     Title                    Genre  Episodes Type     Studio  \\\n",
       "Anime_ID                                                                        \n",
       "1         Teach under work  Fantasy, Horror, Action        36   TV  J.C.Staff   \n",
       "2               Phone star          Romance, Action        58  ONA   Ufotable   \n",
       "\n",
       "           Source  Rating  Popularity  Members  Favorites Airing_Start  \\\n",
       "Anime_ID                                                                 \n",
       "1         Webtoon    7.67        4954   236999      39747   2018-12-12   \n",
       "2            Game    7.83        5484   450384      41331   2024-08-31   \n",
       "\n",
       "         Airing_End  Duration Broadcast_Day           Producers  Licensors  \\\n",
       "Anime_ID                                                                     \n",
       "1        2026-05-17      54.0        Monday  TV Tokyo, Kodansha  Viz Media   \n",
       "2        2027-02-25      50.0        Sunday            Kodansha  Viz Media   \n",
       "\n",
       "          Score   Rank  \n",
       "Anime_ID                \n",
       "1          5.42  13948  \n",
       "2          6.98  14869  "
      ]
     },
     "execution_count": 28,
     "metadata": {},
     "output_type": "execute_result"
    }
   ],
   "source": [
    "anime_data.head(2)"
   ]
  },
  {
   "cell_type": "code",
   "execution_count": 29,
   "id": "698d4a0d-138f-40d8-ab76-95d029cc2af9",
   "metadata": {},
   "outputs": [],
   "source": [
    "top_studio = anime_data[\"Studio\"].value_counts().to_frame().sort_values(\"count\", ascending = False).iloc[:4,:]"
   ]
  },
  {
   "cell_type": "code",
   "execution_count": 30,
   "id": "80430cb6-999a-48cf-96ab-df8e345a6b42",
   "metadata": {},
   "outputs": [
    {
     "data": {
      "text/html": [
       "<div>\n",
       "<style scoped>\n",
       "    .dataframe tbody tr th:only-of-type {\n",
       "        vertical-align: middle;\n",
       "    }\n",
       "\n",
       "    .dataframe tbody tr th {\n",
       "        vertical-align: top;\n",
       "    }\n",
       "\n",
       "    .dataframe thead th {\n",
       "        text-align: right;\n",
       "    }\n",
       "</style>\n",
       "<table border=\"1\" class=\"dataframe\">\n",
       "  <thead>\n",
       "    <tr style=\"text-align: right;\">\n",
       "      <th></th>\n",
       "      <th>count</th>\n",
       "    </tr>\n",
       "    <tr>\n",
       "      <th>Studio</th>\n",
       "      <th></th>\n",
       "    </tr>\n",
       "  </thead>\n",
       "  <tbody>\n",
       "    <tr>\n",
       "      <th>MAPPA</th>\n",
       "      <td>36497</td>\n",
       "    </tr>\n",
       "    <tr>\n",
       "      <th>A-1 Pictures</th>\n",
       "      <td>36473</td>\n",
       "    </tr>\n",
       "    <tr>\n",
       "      <th>Kyoto Animation</th>\n",
       "      <td>36408</td>\n",
       "    </tr>\n",
       "    <tr>\n",
       "      <th>J.C.Staff</th>\n",
       "      <td>36384</td>\n",
       "    </tr>\n",
       "  </tbody>\n",
       "</table>\n",
       "</div>"
      ],
      "text/plain": [
       "                 count\n",
       "Studio                \n",
       "MAPPA            36497\n",
       "A-1 Pictures     36473\n",
       "Kyoto Animation  36408\n",
       "J.C.Staff        36384"
      ]
     },
     "execution_count": 30,
     "metadata": {},
     "output_type": "execute_result"
    }
   ],
   "source": [
    "top_studio"
   ]
  },
  {
   "cell_type": "code",
   "execution_count": 31,
   "id": "a9c6b4cf-dc76-4b19-a438-90cc7124dd4e",
   "metadata": {},
   "outputs": [
    {
     "data": {
      "text/html": [
       "<div>\n",
       "<style scoped>\n",
       "    .dataframe tbody tr th:only-of-type {\n",
       "        vertical-align: middle;\n",
       "    }\n",
       "\n",
       "    .dataframe tbody tr th {\n",
       "        vertical-align: top;\n",
       "    }\n",
       "\n",
       "    .dataframe thead th {\n",
       "        text-align: right;\n",
       "    }\n",
       "</style>\n",
       "<table border=\"1\" class=\"dataframe\">\n",
       "  <thead>\n",
       "    <tr style=\"text-align: right;\">\n",
       "      <th></th>\n",
       "      <th>Title</th>\n",
       "      <th>Genre</th>\n",
       "      <th>Episodes</th>\n",
       "      <th>Type</th>\n",
       "      <th>Studio</th>\n",
       "      <th>Source</th>\n",
       "      <th>Rating</th>\n",
       "      <th>Popularity</th>\n",
       "      <th>Members</th>\n",
       "      <th>Favorites</th>\n",
       "      <th>Airing_Start</th>\n",
       "      <th>Airing_End</th>\n",
       "      <th>Duration</th>\n",
       "      <th>Broadcast_Day</th>\n",
       "      <th>Producers</th>\n",
       "      <th>Licensors</th>\n",
       "      <th>Score</th>\n",
       "      <th>Rank</th>\n",
       "    </tr>\n",
       "    <tr>\n",
       "      <th>Anime_ID</th>\n",
       "      <th></th>\n",
       "      <th></th>\n",
       "      <th></th>\n",
       "      <th></th>\n",
       "      <th></th>\n",
       "      <th></th>\n",
       "      <th></th>\n",
       "      <th></th>\n",
       "      <th></th>\n",
       "      <th></th>\n",
       "      <th></th>\n",
       "      <th></th>\n",
       "      <th></th>\n",
       "      <th></th>\n",
       "      <th></th>\n",
       "      <th></th>\n",
       "      <th></th>\n",
       "      <th></th>\n",
       "    </tr>\n",
       "  </thead>\n",
       "  <tbody>\n",
       "    <tr>\n",
       "      <th>1</th>\n",
       "      <td>Teach under work</td>\n",
       "      <td>Fantasy, Horror, Action</td>\n",
       "      <td>36</td>\n",
       "      <td>TV</td>\n",
       "      <td>J.C.Staff</td>\n",
       "      <td>Webtoon</td>\n",
       "      <td>7.67</td>\n",
       "      <td>4954</td>\n",
       "      <td>236999</td>\n",
       "      <td>39747</td>\n",
       "      <td>2018-12-12</td>\n",
       "      <td>2026-05-17</td>\n",
       "      <td>54.0</td>\n",
       "      <td>Monday</td>\n",
       "      <td>TV Tokyo, Kodansha</td>\n",
       "      <td>Viz Media</td>\n",
       "      <td>5.42</td>\n",
       "      <td>13948</td>\n",
       "    </tr>\n",
       "    <tr>\n",
       "      <th>5</th>\n",
       "      <td>Out increase choose</td>\n",
       "      <td>Adventure, Drama, Supernatural</td>\n",
       "      <td>41</td>\n",
       "      <td>TV</td>\n",
       "      <td>A-1 Pictures</td>\n",
       "      <td>Webtoon</td>\n",
       "      <td>6.45</td>\n",
       "      <td>3857</td>\n",
       "      <td>622931</td>\n",
       "      <td>17013</td>\n",
       "      <td>2016-03-24</td>\n",
       "      <td>2026-12-15</td>\n",
       "      <td>52.0</td>\n",
       "      <td>Sunday</td>\n",
       "      <td>TV Tokyo, Kodansha</td>\n",
       "      <td>Viz Media, Funimation</td>\n",
       "      <td>6.44</td>\n",
       "      <td>10012</td>\n",
       "    </tr>\n",
       "  </tbody>\n",
       "</table>\n",
       "</div>"
      ],
      "text/plain": [
       "                        Title                           Genre  Episodes Type  \\\n",
       "Anime_ID                                                                       \n",
       "1            Teach under work         Fantasy, Horror, Action        36   TV   \n",
       "5         Out increase choose  Adventure, Drama, Supernatural        41   TV   \n",
       "\n",
       "                Studio   Source  Rating  Popularity  Members  Favorites  \\\n",
       "Anime_ID                                                                  \n",
       "1            J.C.Staff  Webtoon    7.67        4954   236999      39747   \n",
       "5         A-1 Pictures  Webtoon    6.45        3857   622931      17013   \n",
       "\n",
       "         Airing_Start Airing_End  Duration Broadcast_Day           Producers  \\\n",
       "Anime_ID                                                                       \n",
       "1          2018-12-12 2026-05-17      54.0        Monday  TV Tokyo, Kodansha   \n",
       "5          2016-03-24 2026-12-15      52.0        Sunday  TV Tokyo, Kodansha   \n",
       "\n",
       "                      Licensors  Score   Rank  \n",
       "Anime_ID                                       \n",
       "1                     Viz Media   5.42  13948  \n",
       "5         Viz Media, Funimation   6.44  10012  "
      ]
     },
     "execution_count": 31,
     "metadata": {},
     "output_type": "execute_result"
    }
   ],
   "source": [
    "filtered_data = anime_data[anime_data[\"Studio\"].isin(top_studio.index)]\n",
    "filtered_data.head(2)"
   ]
  },
  {
   "cell_type": "code",
   "execution_count": 32,
   "id": "d4f6d047-4cd3-4112-a462-c261bcac992c",
   "metadata": {},
   "outputs": [
    {
     "data": {
      "image/png": "[encoded data removed]",
      "text/plain": [
       "<Figure size 1000x500 with 1 Axes>"
      ]
     },
     "metadata": {},
     "output_type": "display_data"
    }
   ],
   "source": [
    "plt.figure(figsize = (10,5))\n",
    "sns.boxplot(data = filtered_data, x = \"Source\", y = \"Duration\")\n",
    "plt.show()"
   ]
  },
  {
   "cell_type": "code",
   "execution_count": null,
   "id": "6ca70ac8-5a18-4342-8481-6a18a898ce74",
   "metadata": {},
   "outputs": [],
   "source": []
  },
  {
   "cell_type": "markdown",
   "id": "9db75ed4-d262-4802-90f5-19d7e705b0ae",
   "metadata": {},
   "source": [
    "<section style = \"background-color:#226657; color:#226657\">. </section>"
   ]
  },
  {
   "cell_type": "markdown",
   "id": "00986227-34d9-41f8-aedb-013a6ffa7e72",
   "metadata": {},
   "source": [
    "# Violin Plots"
   ]
  },
  {
   "cell_type": "markdown",
   "id": "f0743ec0-6b59-4034-a92a-15fb2d67e733",
   "metadata": {},
   "source": [
    "<section style = \"background-color:#226657; color:#226657\">.</section>"
   ]
  },
  {
   "cell_type": "markdown",
   "id": "a2a69dcd-09bd-43d5-bb90-04c5615fe4d5",
   "metadata": {},
   "source": [
    "<section style = \"font-size:20px\">\n",
    "A <b>violin plot</b> is a combination of a box plot and a kernel density plot, used to visualize the <b>distribution of a numeric variable across different categories</b>. It provides a deeper understanding of data distribution by showing the density estimation, making it easier to identify multimodal distributions that box plots may not reveal. Violin plots are particularly useful when comparing the spread and skewness of a continuous variable across different categorical groups. In Python, violin plots can be created using Seaborn with the <b><font color = \"red\">sns.violinplot()</b></font> function, which allows customization of bandwidth, split views, and inner box plots. The x-axis typically represents a categorical variable, such as genre or studio, while the y-axis represents a continuous variable, like ratings, popularity, or score. Unlike box plots,<b>violin plots display the full probability distribution of the data, making them valuable for understanding variations in datasets with skewed or multiple peaks.</b>\n",
    "</section>"
   ]
  },
  {
   "cell_type": "markdown",
   "id": "903d0ec5-9a7b-4604-89af-67ba8c800e4c",
   "metadata": {},
   "source": [
    "<p style = \"font-size:20px\">\n",
    "Tasks: \n",
    "<li>1. Generate a violin-plot describing the relationship between Top 7 Producers and Members</li>\n",
    "<li>2. Generate a violin-plot describing the relationship between Top 5 Genres and Rating  </font> </p></li>"
   ]
  },
  {
   "cell_type": "code",
   "execution_count": 33,
   "id": "d1340e2b-cd77-4a8c-874d-49bcd70f95dc",
   "metadata": {},
   "outputs": [
    {
     "data": {
      "text/plain": [
       "<Axes: >"
      ]
     },
     "execution_count": 33,
     "metadata": {},
     "output_type": "execute_result"
    },
    {
     "data": {
      "image/png": "[encoded data removed]",
      "text/plain": [
       "<Figure size 1500x600 with 1 Axes>"
      ]
     },
     "metadata": {},
     "output_type": "display_data"
    }
   ],
   "source": [
    "plt.figure(figsize = (15,6))\n",
    "sns.violinplot(anime_data )"
   ]
  },
  {
   "cell_type": "code",
   "execution_count": 34,
   "id": "3b29945d-11c2-4aa6-9ac7-a9ceff8b8926",
   "metadata": {},
   "outputs": [
    {
     "data": {
      "text/html": [
       "<div>\n",
       "<style scoped>\n",
       "    .dataframe tbody tr th:only-of-type {\n",
       "        vertical-align: middle;\n",
       "    }\n",
       "\n",
       "    .dataframe tbody tr th {\n",
       "        vertical-align: top;\n",
       "    }\n",
       "\n",
       "    .dataframe thead th {\n",
       "        text-align: right;\n",
       "    }\n",
       "</style>\n",
       "<table border=\"1\" class=\"dataframe\">\n",
       "  <thead>\n",
       "    <tr style=\"text-align: right;\">\n",
       "      <th></th>\n",
       "      <th>Title</th>\n",
       "      <th>Genre</th>\n",
       "      <th>Episodes</th>\n",
       "      <th>Type</th>\n",
       "      <th>Studio</th>\n",
       "      <th>Source</th>\n",
       "      <th>Rating</th>\n",
       "      <th>Popularity</th>\n",
       "      <th>Members</th>\n",
       "      <th>Favorites</th>\n",
       "      <th>Airing_Start</th>\n",
       "      <th>Airing_End</th>\n",
       "      <th>Duration</th>\n",
       "      <th>Broadcast_Day</th>\n",
       "      <th>Producers</th>\n",
       "      <th>Licensors</th>\n",
       "      <th>Score</th>\n",
       "      <th>Rank</th>\n",
       "    </tr>\n",
       "    <tr>\n",
       "      <th>Anime_ID</th>\n",
       "      <th></th>\n",
       "      <th></th>\n",
       "      <th></th>\n",
       "      <th></th>\n",
       "      <th></th>\n",
       "      <th></th>\n",
       "      <th></th>\n",
       "      <th></th>\n",
       "      <th></th>\n",
       "      <th></th>\n",
       "      <th></th>\n",
       "      <th></th>\n",
       "      <th></th>\n",
       "      <th></th>\n",
       "      <th></th>\n",
       "      <th></th>\n",
       "      <th></th>\n",
       "      <th></th>\n",
       "    </tr>\n",
       "  </thead>\n",
       "  <tbody>\n",
       "    <tr>\n",
       "      <th>1</th>\n",
       "      <td>Teach under work</td>\n",
       "      <td>Fantasy, Horror, Action</td>\n",
       "      <td>36</td>\n",
       "      <td>TV</td>\n",
       "      <td>J.C.Staff</td>\n",
       "      <td>Webtoon</td>\n",
       "      <td>7.67</td>\n",
       "      <td>4954</td>\n",
       "      <td>236999</td>\n",
       "      <td>39747</td>\n",
       "      <td>2018-12-12</td>\n",
       "      <td>2026-05-17</td>\n",
       "      <td>54.0</td>\n",
       "      <td>Monday</td>\n",
       "      <td>TV Tokyo, Kodansha</td>\n",
       "      <td>Viz Media</td>\n",
       "      <td>5.42</td>\n",
       "      <td>13948</td>\n",
       "    </tr>\n",
       "  </tbody>\n",
       "</table>\n",
       "</div>"
      ],
      "text/plain": [
       "                     Title                    Genre  Episodes Type     Studio  \\\n",
       "Anime_ID                                                                        \n",
       "1         Teach under work  Fantasy, Horror, Action        36   TV  J.C.Staff   \n",
       "\n",
       "           Source  Rating  Popularity  Members  Favorites Airing_Start  \\\n",
       "Anime_ID                                                                 \n",
       "1         Webtoon    7.67        4954   236999      39747   2018-12-12   \n",
       "\n",
       "         Airing_End  Duration Broadcast_Day           Producers  Licensors  \\\n",
       "Anime_ID                                                                     \n",
       "1        2026-05-17      54.0        Monday  TV Tokyo, Kodansha  Viz Media   \n",
       "\n",
       "          Score   Rank  \n",
       "Anime_ID                \n",
       "1          5.42  13948  "
      ]
     },
     "execution_count": 34,
     "metadata": {},
     "output_type": "execute_result"
    }
   ],
   "source": [
    "anime_data.head(1)"
   ]
  },
  {
   "cell_type": "code",
   "execution_count": 35,
   "id": "f73abbe6-7f01-4ad0-a525-ec2f4426c375",
   "metadata": {},
   "outputs": [],
   "source": [
    "filtered_producers = anime_data[\"Producers\"].value_counts().index[:5]"
   ]
  },
  {
   "cell_type": "code",
   "execution_count": 36,
   "id": "ab42ec50-5c15-420d-b3ef-74aa670f2327",
   "metadata": {},
   "outputs": [
    {
     "data": {
      "text/html": [
       "<div>\n",
       "<style scoped>\n",
       "    .dataframe tbody tr th:only-of-type {\n",
       "        vertical-align: middle;\n",
       "    }\n",
       "\n",
       "    .dataframe tbody tr th {\n",
       "        vertical-align: top;\n",
       "    }\n",
       "\n",
       "    .dataframe thead th {\n",
       "        text-align: right;\n",
       "    }\n",
       "</style>\n",
       "<table border=\"1\" class=\"dataframe\">\n",
       "  <thead>\n",
       "    <tr style=\"text-align: right;\">\n",
       "      <th></th>\n",
       "      <th>Title</th>\n",
       "      <th>Genre</th>\n",
       "      <th>Episodes</th>\n",
       "      <th>Type</th>\n",
       "      <th>Studio</th>\n",
       "      <th>Source</th>\n",
       "      <th>Rating</th>\n",
       "      <th>Popularity</th>\n",
       "      <th>Members</th>\n",
       "      <th>Favorites</th>\n",
       "      <th>Airing_Start</th>\n",
       "      <th>Airing_End</th>\n",
       "      <th>Duration</th>\n",
       "      <th>Broadcast_Day</th>\n",
       "      <th>Producers</th>\n",
       "      <th>Licensors</th>\n",
       "      <th>Score</th>\n",
       "      <th>Rank</th>\n",
       "    </tr>\n",
       "    <tr>\n",
       "      <th>Anime_ID</th>\n",
       "      <th></th>\n",
       "      <th></th>\n",
       "      <th></th>\n",
       "      <th></th>\n",
       "      <th></th>\n",
       "      <th></th>\n",
       "      <th></th>\n",
       "      <th></th>\n",
       "      <th></th>\n",
       "      <th></th>\n",
       "      <th></th>\n",
       "      <th></th>\n",
       "      <th></th>\n",
       "      <th></th>\n",
       "      <th></th>\n",
       "      <th></th>\n",
       "      <th></th>\n",
       "      <th></th>\n",
       "    </tr>\n",
       "  </thead>\n",
       "  <tbody>\n",
       "    <tr>\n",
       "      <th>12</th>\n",
       "      <td>Town process</td>\n",
       "      <td>Supernatural, Sci-Fi, Fantasy</td>\n",
       "      <td>81</td>\n",
       "      <td>ONA</td>\n",
       "      <td>MAPPA</td>\n",
       "      <td>Manga</td>\n",
       "      <td>7.31</td>\n",
       "      <td>7142</td>\n",
       "      <td>618388</td>\n",
       "      <td>27632</td>\n",
       "      <td>2017-01-04</td>\n",
       "      <td>2028-03-24</td>\n",
       "      <td>52.0</td>\n",
       "      <td>Tuesday</td>\n",
       "      <td>Kadokawa</td>\n",
       "      <td>Crunchyroll, Sentai Filmworks</td>\n",
       "      <td>5.75</td>\n",
       "      <td>10170</td>\n",
       "    </tr>\n",
       "    <tr>\n",
       "      <th>14</th>\n",
       "      <td>Situation</td>\n",
       "      <td>Adventure, Comedy, Horror</td>\n",
       "      <td>52</td>\n",
       "      <td>OVA</td>\n",
       "      <td>J.C.Staff</td>\n",
       "      <td>Game</td>\n",
       "      <td>6.42</td>\n",
       "      <td>7042</td>\n",
       "      <td>513822</td>\n",
       "      <td>4896</td>\n",
       "      <td>2023-11-21</td>\n",
       "      <td>2030-01-02</td>\n",
       "      <td>25.0</td>\n",
       "      <td>Sunday</td>\n",
       "      <td>Shueisha</td>\n",
       "      <td>Crunchyroll, Funimation</td>\n",
       "      <td>6.86</td>\n",
       "      <td>7694</td>\n",
       "    </tr>\n",
       "  </tbody>\n",
       "</table>\n",
       "</div>"
      ],
      "text/plain": [
       "                 Title                          Genre  Episodes Type  \\\n",
       "Anime_ID                                                               \n",
       "12        Town process  Supernatural, Sci-Fi, Fantasy        81  ONA   \n",
       "14           Situation      Adventure, Comedy, Horror        52  OVA   \n",
       "\n",
       "             Studio Source  Rating  Popularity  Members  Favorites  \\\n",
       "Anime_ID                                                             \n",
       "12            MAPPA  Manga    7.31        7142   618388      27632   \n",
       "14        J.C.Staff   Game    6.42        7042   513822       4896   \n",
       "\n",
       "         Airing_Start Airing_End  Duration Broadcast_Day Producers  \\\n",
       "Anime_ID                                                             \n",
       "12         2017-01-04 2028-03-24      52.0       Tuesday  Kadokawa   \n",
       "14         2023-11-21 2030-01-02      25.0        Sunday  Shueisha   \n",
       "\n",
       "                              Licensors  Score   Rank  \n",
       "Anime_ID                                               \n",
       "12        Crunchyroll, Sentai Filmworks   5.75  10170  \n",
       "14              Crunchyroll, Funimation   6.86   7694  "
      ]
     },
     "execution_count": 36,
     "metadata": {},
     "output_type": "execute_result"
    }
   ],
   "source": [
    "filtered_data = anime_data[anime_data[\"Producers\"].isin(filtered_producers)]\n",
    "filtered_data.head(2)"
   ]
  },
  {
   "cell_type": "code",
   "execution_count": 37,
   "id": "1046b1ca-4be8-4ebc-89c8-51dd3411262a",
   "metadata": {},
   "outputs": [
    {
     "data": {
      "text/plain": [
       "<Axes: xlabel='Producers', ylabel='Score'>"
      ]
     },
     "execution_count": 37,
     "metadata": {},
     "output_type": "execute_result"
    },
    {
     "data": {
      "image/png": "[encoded data removed]",
      "text/plain": [
       "<Figure size 1500x600 with 1 Axes>"
      ]
     },
     "metadata": {},
     "output_type": "display_data"
    }
   ],
   "source": [
    "plt.figure(figsize = (15,6))\n",
    "sns.violinplot(data = filtered_data, x = \"Producers\", y = \"Score\")"
   ]
  },
  {
   "cell_type": "markdown",
   "id": "e0adc70b-a504-4c14-8e9a-d9fa0d0a6203",
   "metadata": {},
   "source": [
    "# Importing New Data"
   ]
  },
  {
   "cell_type": "code",
   "execution_count": 38,
   "id": "8f9c9a1f-f9d6-4ec5-80d4-30a73dbd97ec",
   "metadata": {},
   "outputs": [
    {
     "data": {
      "text/html": [
       "<div>\n",
       "<style scoped>\n",
       "    .dataframe tbody tr th:only-of-type {\n",
       "        vertical-align: middle;\n",
       "    }\n",
       "\n",
       "    .dataframe tbody tr th {\n",
       "        vertical-align: top;\n",
       "    }\n",
       "\n",
       "    .dataframe thead th {\n",
       "        text-align: right;\n",
       "    }\n",
       "</style>\n",
       "<table border=\"1\" class=\"dataframe\">\n",
       "  <thead>\n",
       "    <tr style=\"text-align: right;\">\n",
       "      <th></th>\n",
       "      <th>Poster_Link</th>\n",
       "      <th>Series_Title</th>\n",
       "      <th>Released_Year</th>\n",
       "      <th>Certificate</th>\n",
       "      <th>Runtime</th>\n",
       "      <th>Genre</th>\n",
       "      <th>IMDB_Rating</th>\n",
       "      <th>Overview</th>\n",
       "      <th>Meta_score</th>\n",
       "      <th>Director</th>\n",
       "      <th>Star1</th>\n",
       "      <th>Star2</th>\n",
       "      <th>Star3</th>\n",
       "      <th>Star4</th>\n",
       "      <th>No_of_Votes</th>\n",
       "      <th>Gross</th>\n",
       "    </tr>\n",
       "  </thead>\n",
       "  <tbody>\n",
       "    <tr>\n",
       "      <th>0</th>\n",
       "      <td>https://m.media-amazon.com/images/M/MV5BMDFkYT...</td>\n",
       "      <td>The Shawshank Redemption</td>\n",
       "      <td>1994</td>\n",
       "      <td>A</td>\n",
       "      <td>142 min</td>\n",
       "      <td>Drama</td>\n",
       "      <td>9.3</td>\n",
       "      <td>Two imprisoned men bond over a number of years...</td>\n",
       "      <td>80.0</td>\n",
       "      <td>Frank Darabont</td>\n",
       "      <td>Tim Robbins</td>\n",
       "      <td>Morgan Freeman</td>\n",
       "      <td>Bob Gunton</td>\n",
       "      <td>William Sadler</td>\n",
       "      <td>2343110</td>\n",
       "      <td>28,341,469</td>\n",
       "    </tr>\n",
       "    <tr>\n",
       "      <th>1</th>\n",
       "      <td>https://m.media-amazon.com/images/M/MV5BM2MyNj...</td>\n",
       "      <td>The Godfather</td>\n",
       "      <td>1972</td>\n",
       "      <td>A</td>\n",
       "      <td>175 min</td>\n",
       "      <td>Crime, Drama</td>\n",
       "      <td>9.2</td>\n",
       "      <td>An organized crime dynasty's aging patriarch t...</td>\n",
       "      <td>100.0</td>\n",
       "      <td>Francis Ford Coppola</td>\n",
       "      <td>Marlon Brando</td>\n",
       "      <td>Al Pacino</td>\n",
       "      <td>James Caan</td>\n",
       "      <td>Diane Keaton</td>\n",
       "      <td>1620367</td>\n",
       "      <td>134,966,411</td>\n",
       "    </tr>\n",
       "  </tbody>\n",
       "</table>\n",
       "</div>"
      ],
      "text/plain": [
       "                                         Poster_Link  \\\n",
       "0  https://m.media-amazon.com/images/M/MV5BMDFkYT...   \n",
       "1  https://m.media-amazon.com/images/M/MV5BM2MyNj...   \n",
       "\n",
       "               Series_Title Released_Year Certificate  Runtime         Genre  \\\n",
       "0  The Shawshank Redemption          1994           A  142 min         Drama   \n",
       "1             The Godfather          1972           A  175 min  Crime, Drama   \n",
       "\n",
       "   IMDB_Rating                                           Overview  Meta_score  \\\n",
       "0          9.3  Two imprisoned men bond over a number of years...        80.0   \n",
       "1          9.2  An organized crime dynasty's aging patriarch t...       100.0   \n",
       "\n",
       "               Director          Star1           Star2       Star3  \\\n",
       "0        Frank Darabont    Tim Robbins  Morgan Freeman  Bob Gunton   \n",
       "1  Francis Ford Coppola  Marlon Brando       Al Pacino  James Caan   \n",
       "\n",
       "            Star4  No_of_Votes        Gross  \n",
       "0  William Sadler      2343110   28,341,469  \n",
       "1    Diane Keaton      1620367  134,966,411  "
      ]
     },
     "execution_count": 38,
     "metadata": {},
     "output_type": "execute_result"
    }
   ],
   "source": [
    "data = pd.read_csv(\"imdb_top_1000.csv\")\n",
    "data.head(2)"
   ]
  },
  {
   "cell_type": "markdown",
   "id": "9fbe0fa3-97ed-40f2-87a6-5d37b9277435",
   "metadata": {},
   "source": [
    "# Data Cleaning"
   ]
  },
  {
   "cell_type": "code",
   "execution_count": 39,
   "id": "43142ffe-6380-48cd-973e-e19a079002df",
   "metadata": {},
   "outputs": [],
   "source": [
    "data.drop(\"Poster_Link\",axis = 1,inplace = True)"
   ]
  },
  {
   "cell_type": "code",
   "execution_count": 40,
   "id": "5061afe3-bfaf-44fd-b92e-215f492d8fac",
   "metadata": {},
   "outputs": [
    {
     "data": {
      "text/plain": [
       "Series_Title      object\n",
       "Released_Year     object\n",
       "Certificate       object\n",
       "Runtime           object\n",
       "Genre             object\n",
       "IMDB_Rating      float64\n",
       "Overview          object\n",
       "Meta_score       float64\n",
       "Director          object\n",
       "Star1             object\n",
       "Star2             object\n",
       "Star3             object\n",
       "Star4             object\n",
       "No_of_Votes        int64\n",
       "Gross             object\n",
       "dtype: object"
      ]
     },
     "execution_count": 40,
     "metadata": {},
     "output_type": "execute_result"
    }
   ],
   "source": [
    "data.dtypes"
   ]
  },
  {
   "cell_type": "markdown",
   "id": "ef7f58dd-a1c1-4e41-958c-63e8bf057134",
   "metadata": {},
   "source": [
    "<section style = \"background-color: #f1edfa; font-size: 20px\">Make the following conversions:\n",
    "    <li> Task 1. Released_year -> integer </li>\n",
    "    <li> Task 2. Runtime-> integer      </li>\n",
    "    <li> Task 3. Gross -> float</li>\n",
    "</section>"
   ]
  },
  {
   "cell_type": "code",
   "execution_count": 41,
   "id": "cd8e828c-c492-4739-af30-7800161df348",
   "metadata": {},
   "outputs": [],
   "source": [
    "# Task 1. Released_Year conversion to integer. Before conversion we should replace \",\" and \"PG\" strings to \"\", \n",
    "# then convert it to float avoiding NaN issues, then fill NaNs with 0, finally convert it to integer."
   ]
  },
  {
   "cell_type": "code",
   "execution_count": 42,
   "id": "34734014-bcab-4a10-b911-037e9b821222",
   "metadata": {},
   "outputs": [],
   "source": [
    "data[\"Released_Year\"] = data[\"Released_Year\"].str.replace(\"PG\", \"0\")"
   ]
  },
  {
   "cell_type": "code",
   "execution_count": 43,
   "id": "4d1e9e6f-e077-45d9-9d22-1bdecaf917bc",
   "metadata": {},
   "outputs": [
    {
     "data": {
      "text/plain": [
       "dtype('int64')"
      ]
     },
     "execution_count": 43,
     "metadata": {},
     "output_type": "execute_result"
    }
   ],
   "source": [
    "data[\"Released_Year\"] = data[\"Released_Year\"].str.replace(\",\", \"\").astype(float).fillna(0).astype('int64')\n",
    "data[\"Released_Year\"].dtype"
   ]
  },
  {
   "cell_type": "code",
   "execution_count": 44,
   "id": "ed42fc27-2fe9-4805-a7d0-61f08e374925",
   "metadata": {},
   "outputs": [
    {
     "data": {
      "text/plain": [
       "0      1994\n",
       "1      1972\n",
       "2      2008\n",
       "3      1974\n",
       "4      1957\n",
       "       ... \n",
       "995    1961\n",
       "996    1956\n",
       "997    1953\n",
       "998    1944\n",
       "999    1935\n",
       "Name: Released_Year, Length: 1000, dtype: int64"
      ]
     },
     "execution_count": 44,
     "metadata": {},
     "output_type": "execute_result"
    }
   ],
   "source": [
    "data[\"Released_Year\"]"
   ]
  },
  {
   "cell_type": "code",
   "execution_count": 45,
   "id": "4a4cc90d-effc-4d71-9b78-06c99bff967d",
   "metadata": {},
   "outputs": [],
   "source": [
    "# Task 2. Runtime conversion to integer. Before conversion, replace \"min\" in the entries with \"\", then convert it to float\n",
    "# then fill null values with 0, and finally convert to integer."
   ]
  },
  {
   "cell_type": "code",
   "execution_count": 46,
   "id": "cbb750ae-f33b-4ab0-8ea0-2a3ba4a55721",
   "metadata": {},
   "outputs": [
    {
     "data": {
      "text/plain": [
       "array(['142 min', '175 min', '152 min', '202 min', '96 min', '201 min',\n",
       "       '154 min', '195 min', '148 min', '139 min', '178 min', '161 min',\n",
       "       '179 min', '136 min', '146 min', '124 min', '133 min', '160 min',\n",
       "       '132 min', '153 min', '169 min', '130 min', '125 min', '189 min',\n",
       "       '116 min', '127 min', '118 min', '121 min', '207 min', '122 min',\n",
       "       '106 min', '112 min', '151 min', '150 min', '155 min', '119 min',\n",
       "       '110 min', '88 min', '137 min', '89 min', '165 min', '109 min',\n",
       "       '102 min', '87 min', '126 min', '147 min', '117 min', '181 min',\n",
       "       '149 min', '105 min', '164 min', '170 min', '98 min', '101 min',\n",
       "       '113 min', '134 min', '229 min', '115 min', '143 min', '95 min',\n",
       "       '104 min', '123 min', '131 min', '108 min', '81 min', '99 min',\n",
       "       '114 min', '129 min', '228 min', '128 min', '103 min', '107 min',\n",
       "       '68 min', '138 min', '156 min', '167 min', '163 min', '186 min',\n",
       "       '321 min', '135 min', '140 min', '180 min', '158 min', '210 min',\n",
       "       '86 min', '162 min', '177 min', '204 min', '91 min', '172 min',\n",
       "       '45 min', '145 min', '100 min', '196 min', '93 min', '120 min',\n",
       "       '92 min', '144 min', '80 min', '183 min', '111 min', '141 min',\n",
       "       '224 min', '171 min', '188 min', '94 min', '185 min', '85 min',\n",
       "       '205 min', '212 min', '238 min', '72 min', '67 min', '76 min',\n",
       "       '159 min', '83 min', '90 min', '84 min', '191 min', '197 min',\n",
       "       '174 min', '97 min', '75 min', '157 min', '209 min', '82 min',\n",
       "       '220 min', '64 min', '184 min', '168 min', '166 min', '192 min',\n",
       "       '194 min', '193 min', '69 min', '70 min', '242 min', '79 min',\n",
       "       '71 min', '78 min'], dtype=object)"
      ]
     },
     "execution_count": 46,
     "metadata": {},
     "output_type": "execute_result"
    }
   ],
   "source": [
    "data[\"Runtime\"].unique()"
   ]
  },
  {
   "cell_type": "code",
   "execution_count": 47,
   "id": "ff183c71-e10f-45b6-881e-a03e81665e06",
   "metadata": {},
   "outputs": [
    {
     "data": {
      "text/plain": [
       "dtype('int64')"
      ]
     },
     "execution_count": 47,
     "metadata": {},
     "output_type": "execute_result"
    }
   ],
   "source": [
    "data[\"Runtime\"] = data[\"Runtime\"].str.replace(\"min\", \"\").astype(float).fillna(0).astype('int64')\n",
    "data[\"Runtime\"].dtype"
   ]
  },
  {
   "cell_type": "code",
   "execution_count": 48,
   "id": "fd8931a4-e6f3-4e28-87f0-998bdc54691b",
   "metadata": {},
   "outputs": [
    {
     "data": {
      "text/plain": [
       "0      142\n",
       "1      175\n",
       "2      152\n",
       "3      202\n",
       "4       96\n",
       "      ... \n",
       "995    115\n",
       "996    201\n",
       "997    118\n",
       "998     97\n",
       "999     86\n",
       "Name: Runtime, Length: 1000, dtype: int64"
      ]
     },
     "execution_count": 48,
     "metadata": {},
     "output_type": "execute_result"
    }
   ],
   "source": [
    "data[\"Runtime\"]"
   ]
  },
  {
   "cell_type": "code",
   "execution_count": 49,
   "id": "04d697de-ef8b-491a-87ff-cc3b52b6d714",
   "metadata": {},
   "outputs": [],
   "source": [
    "# Task 3. Gross conversion to integer"
   ]
  },
  {
   "cell_type": "code",
   "execution_count": 50,
   "id": "4afad001-7f96-445b-b794-fb778bbbfd5e",
   "metadata": {},
   "outputs": [
    {
     "data": {
      "text/plain": [
       "dtype('int64')"
      ]
     },
     "execution_count": 50,
     "metadata": {},
     "output_type": "execute_result"
    }
   ],
   "source": [
    "data[\"Gross\"] = data[\"Gross\"].str.replace(\",\", \"\").astype(float).fillna(0).astype('int64')\n",
    "data[\"Gross\"].dtype"
   ]
  },
  {
   "cell_type": "code",
   "execution_count": 51,
   "id": "ee9b7959-101a-4b3c-b0f6-070e28f826ec",
   "metadata": {},
   "outputs": [
    {
     "data": {
      "text/plain": [
       "0       28341469\n",
       "1      134966411\n",
       "2      534858444\n",
       "3       57300000\n",
       "4        4360000\n",
       "         ...    \n",
       "995            0\n",
       "996            0\n",
       "997     30500000\n",
       "998            0\n",
       "999            0\n",
       "Name: Gross, Length: 1000, dtype: int64"
      ]
     },
     "execution_count": 51,
     "metadata": {},
     "output_type": "execute_result"
    }
   ],
   "source": [
    "data[\"Gross\"]"
   ]
  },
  {
   "cell_type": "markdown",
   "id": "b6c1efa9-deac-4555-8236-0cc2b75fb0d7",
   "metadata": {},
   "source": [
    "# Handling Missing Values"
   ]
  },
  {
   "cell_type": "code",
   "execution_count": 52,
   "id": "e271da81-9126-41b3-b4e4-c3774272a2bf",
   "metadata": {},
   "outputs": [
    {
     "data": {
      "text/plain": [
       "Series_Title       0\n",
       "Released_Year      0\n",
       "Certificate      101\n",
       "Runtime            0\n",
       "Genre              0\n",
       "IMDB_Rating        0\n",
       "Overview           0\n",
       "Meta_score       157\n",
       "Director           0\n",
       "Star1              0\n",
       "Star2              0\n",
       "Star3              0\n",
       "Star4              0\n",
       "No_of_Votes        0\n",
       "Gross              0\n",
       "dtype: int64"
      ]
     },
     "execution_count": 52,
     "metadata": {},
     "output_type": "execute_result"
    }
   ],
   "source": [
    "data.isnull().sum()"
   ]
  },
  {
   "cell_type": "code",
   "execution_count": 53,
   "id": "78f30b35-a73c-4ed6-85cb-272d456bd816",
   "metadata": {},
   "outputs": [],
   "source": [
    "# Tasks:\n",
    "# Task 1. Certificate 101 Null: Replace them with \"No Info\"\n",
    "# Task 2. Meta_score 157 Null: They are numerical value, make them np.NaN.\n",
    "# Taks 3. In Gross value we made some Nulls equal to 0 by using fillna(0), drop the columns with 0 Gross.\n",
    "    # Because the entries with no \"Gross\" value is not beneficial for us"
   ]
  },
  {
   "cell_type": "code",
   "execution_count": 54,
   "id": "32822b2a-50c3-44e8-a6e4-cccf3621f185",
   "metadata": {},
   "outputs": [],
   "source": [
    "# Task 1. Handle Certificate column\n",
    "data[\"Certificate\"].fillna(\"No Info\",inplace = True)"
   ]
  },
  {
   "cell_type": "code",
   "execution_count": 55,
   "id": "3f4e33ad-fe47-4810-80eb-f2c78a68b70b",
   "metadata": {},
   "outputs": [],
   "source": [
    "# Task 2. Handle Meta_Score column. Convert to float and ignore null values.\n",
    "data[\"Meta_score\"].fillna(np.NaN, inplace = True)"
   ]
  },
  {
   "cell_type": "code",
   "execution_count": 56,
   "id": "6069473d-475b-4c3e-b2de-9d3f3b01880e",
   "metadata": {},
   "outputs": [],
   "source": [
    "data[\"Meta_score\"] = data[\"Meta_score\"].astype(float)"
   ]
  },
  {
   "cell_type": "code",
   "execution_count": 57,
   "id": "f1238226-67a9-4972-a9b8-c5006122eb21",
   "metadata": {},
   "outputs": [],
   "source": [
    "# Task 3. Drop the rows with Gross equal to 0.\n",
    "data = data[data[\"Gross\"] != 0]"
   ]
  },
  {
   "cell_type": "code",
   "execution_count": 58,
   "id": "b809a42d-9272-42a4-ab11-2aa3de94200d",
   "metadata": {},
   "outputs": [
    {
     "data": {
      "text/html": [
       "<div>\n",
       "<style scoped>\n",
       "    .dataframe tbody tr th:only-of-type {\n",
       "        vertical-align: middle;\n",
       "    }\n",
       "\n",
       "    .dataframe tbody tr th {\n",
       "        vertical-align: top;\n",
       "    }\n",
       "\n",
       "    .dataframe thead th {\n",
       "        text-align: right;\n",
       "    }\n",
       "</style>\n",
       "<table border=\"1\" class=\"dataframe\">\n",
       "  <thead>\n",
       "    <tr style=\"text-align: right;\">\n",
       "      <th></th>\n",
       "      <th>Series_Title</th>\n",
       "      <th>Released_Year</th>\n",
       "      <th>Certificate</th>\n",
       "      <th>Runtime</th>\n",
       "      <th>Genre</th>\n",
       "      <th>IMDB_Rating</th>\n",
       "      <th>Overview</th>\n",
       "      <th>Meta_score</th>\n",
       "      <th>Director</th>\n",
       "      <th>Star1</th>\n",
       "      <th>Star2</th>\n",
       "      <th>Star3</th>\n",
       "      <th>Star4</th>\n",
       "      <th>No_of_Votes</th>\n",
       "      <th>Gross</th>\n",
       "    </tr>\n",
       "  </thead>\n",
       "  <tbody>\n",
       "  </tbody>\n",
       "</table>\n",
       "</div>"
      ],
      "text/plain": [
       "Empty DataFrame\n",
       "Columns: [Series_Title, Released_Year, Certificate, Runtime, Genre, IMDB_Rating, Overview, Meta_score, Director, Star1, Star2, Star3, Star4, No_of_Votes, Gross]\n",
       "Index: []"
      ]
     },
     "execution_count": 58,
     "metadata": {},
     "output_type": "execute_result"
    }
   ],
   "source": [
    "data[data[\"Gross\"] == 0]"
   ]
  },
  {
   "cell_type": "code",
   "execution_count": null,
   "id": "94ff4e63-0a28-4bf6-8bf8-ff742e29fca3",
   "metadata": {},
   "outputs": [],
   "source": []
  },
  {
   "cell_type": "code",
   "execution_count": null,
   "id": "a4b80e36-1d15-4a52-8a28-a459a6af9098",
   "metadata": {},
   "outputs": [],
   "source": []
  },
  {
   "cell_type": "markdown",
   "id": "d8be14ba-1623-4d4d-b89d-5ec459257ecc",
   "metadata": {},
   "source": [
    "# Violin Plot"
   ]
  },
  {
   "cell_type": "code",
   "execution_count": 59,
   "id": "ee862096-2d79-4b17-8b68-c92b0392f2ef",
   "metadata": {},
   "outputs": [],
   "source": [
    "# Do the following tasks\n",
    "# Task 1. Generate violin-plot to describe the relationship between top 10 genre and Gross\n",
    "# Task 2. Generate violin-plot to visualize the relationship between Certificate and Gross"
   ]
  },
  {
   "cell_type": "code",
   "execution_count": 60,
   "id": "5e95ccbd-59c0-4cf7-baea-0649970c6005",
   "metadata": {},
   "outputs": [
    {
     "data": {
      "text/html": [
       "<div>\n",
       "<style scoped>\n",
       "    .dataframe tbody tr th:only-of-type {\n",
       "        vertical-align: middle;\n",
       "    }\n",
       "\n",
       "    .dataframe tbody tr th {\n",
       "        vertical-align: top;\n",
       "    }\n",
       "\n",
       "    .dataframe thead th {\n",
       "        text-align: right;\n",
       "    }\n",
       "</style>\n",
       "<table border=\"1\" class=\"dataframe\">\n",
       "  <thead>\n",
       "    <tr style=\"text-align: right;\">\n",
       "      <th></th>\n",
       "      <th>Series_Title</th>\n",
       "      <th>Released_Year</th>\n",
       "      <th>Certificate</th>\n",
       "      <th>Runtime</th>\n",
       "      <th>Genre</th>\n",
       "      <th>IMDB_Rating</th>\n",
       "      <th>Overview</th>\n",
       "      <th>Meta_score</th>\n",
       "      <th>Director</th>\n",
       "      <th>Star1</th>\n",
       "      <th>Star2</th>\n",
       "      <th>Star3</th>\n",
       "      <th>Star4</th>\n",
       "      <th>No_of_Votes</th>\n",
       "      <th>Gross</th>\n",
       "    </tr>\n",
       "  </thead>\n",
       "  <tbody>\n",
       "    <tr>\n",
       "      <th>0</th>\n",
       "      <td>The Shawshank Redemption</td>\n",
       "      <td>1994</td>\n",
       "      <td>A</td>\n",
       "      <td>142</td>\n",
       "      <td>Drama</td>\n",
       "      <td>9.3</td>\n",
       "      <td>Two imprisoned men bond over a number of years...</td>\n",
       "      <td>80.0</td>\n",
       "      <td>Frank Darabont</td>\n",
       "      <td>Tim Robbins</td>\n",
       "      <td>Morgan Freeman</td>\n",
       "      <td>Bob Gunton</td>\n",
       "      <td>William Sadler</td>\n",
       "      <td>2343110</td>\n",
       "      <td>28341469</td>\n",
       "    </tr>\n",
       "    <tr>\n",
       "      <th>1</th>\n",
       "      <td>The Godfather</td>\n",
       "      <td>1972</td>\n",
       "      <td>A</td>\n",
       "      <td>175</td>\n",
       "      <td>Crime, Drama</td>\n",
       "      <td>9.2</td>\n",
       "      <td>An organized crime dynasty's aging patriarch t...</td>\n",
       "      <td>100.0</td>\n",
       "      <td>Francis Ford Coppola</td>\n",
       "      <td>Marlon Brando</td>\n",
       "      <td>Al Pacino</td>\n",
       "      <td>James Caan</td>\n",
       "      <td>Diane Keaton</td>\n",
       "      <td>1620367</td>\n",
       "      <td>134966411</td>\n",
       "    </tr>\n",
       "  </tbody>\n",
       "</table>\n",
       "</div>"
      ],
      "text/plain": [
       "               Series_Title  Released_Year Certificate  Runtime         Genre  \\\n",
       "0  The Shawshank Redemption           1994           A      142         Drama   \n",
       "1             The Godfather           1972           A      175  Crime, Drama   \n",
       "\n",
       "   IMDB_Rating                                           Overview  Meta_score  \\\n",
       "0          9.3  Two imprisoned men bond over a number of years...        80.0   \n",
       "1          9.2  An organized crime dynasty's aging patriarch t...       100.0   \n",
       "\n",
       "               Director          Star1           Star2       Star3  \\\n",
       "0        Frank Darabont    Tim Robbins  Morgan Freeman  Bob Gunton   \n",
       "1  Francis Ford Coppola  Marlon Brando       Al Pacino  James Caan   \n",
       "\n",
       "            Star4  No_of_Votes      Gross  \n",
       "0  William Sadler      2343110   28341469  \n",
       "1    Diane Keaton      1620367  134966411  "
      ]
     },
     "execution_count": 60,
     "metadata": {},
     "output_type": "execute_result"
    }
   ],
   "source": [
    "data.head(2)"
   ]
  },
  {
   "cell_type": "code",
   "execution_count": 61,
   "id": "07609fa6-fec5-47e5-abb1-94a0d30f76de",
   "metadata": {},
   "outputs": [],
   "source": [
    "# Task 1. Genre vs Gross Violinplot"
   ]
  },
  {
   "cell_type": "code",
   "execution_count": 62,
   "id": "e40eb84c-b84c-4ae7-b4c4-c0a99e738516",
   "metadata": {},
   "outputs": [
    {
     "data": {
      "text/plain": [
       "Index(['Drama', 'Drama, Romance', 'Comedy, Drama', 'Comedy, Drama, Romance',\n",
       "       'Crime, Drama, Thriller', 'Crime, Drama', 'Crime, Drama, Mystery',\n",
       "       'Biography, Drama, History', 'Action, Crime, Drama',\n",
       "       'Action, Adventure, Sci-Fi'],\n",
       "      dtype='object', name='Genre')"
      ]
     },
     "execution_count": 62,
     "metadata": {},
     "output_type": "execute_result"
    }
   ],
   "source": [
    "top_genres = data[\"Genre\"].value_counts().index[:10]\n",
    "top_genres"
   ]
  },
  {
   "cell_type": "code",
   "execution_count": 63,
   "id": "63b2d13d-5007-4f00-b312-e89044a71512",
   "metadata": {},
   "outputs": [],
   "source": [
    "filtered_data = data[data[\"Genre\"].isin(top_genres)]"
   ]
  },
  {
   "cell_type": "code",
   "execution_count": 64,
   "id": "44c70a90-5f8a-4a14-88b4-71999b29f550",
   "metadata": {},
   "outputs": [
    {
     "data": {
      "image/png": "[encoded data removed]",
      "text/plain": [
       "<Figure size 2000x1000 with 1 Axes>"
      ]
     },
     "metadata": {},
     "output_type": "display_data"
    }
   ],
   "source": [
    "plt.figure(figsize = (20,10))\n",
    "sns.violinplot(data = filtered_data, x = \"Genre\", y = \"Gross\")\n",
    "plt.xticks(rotation = 60, fontsize = 15);\n",
    "plt.xlabel(\"Genre\", fontsize = 15)\n",
    "plt.ylabel(\"Gross\", fontsize = 15)\n",
    "plt.show()"
   ]
  },
  {
   "cell_type": "code",
   "execution_count": 65,
   "id": "98f2ebc7-83e6-4fc9-a51d-70708ced6e1d",
   "metadata": {},
   "outputs": [],
   "source": [
    "# Task 2. Certificate vs Gross"
   ]
  },
  {
   "cell_type": "code",
   "execution_count": 66,
   "id": "1740480c-0f7e-4f8e-bf9f-88531db8b916",
   "metadata": {},
   "outputs": [
    {
     "data": {
      "text/plain": [
       "Certificate\n",
       "U           200\n",
       "A           180\n",
       "UA          163\n",
       "R           135\n",
       "No Info      46\n",
       "PG-13        39\n",
       "PG           24\n",
       "Passed       23\n",
       "G            10\n",
       "Approved      6\n",
       "GP            2\n",
       "Unrated       1\n",
       "TV-PG         1\n",
       "U/A           1\n",
       "Name: count, dtype: int64"
      ]
     },
     "execution_count": 66,
     "metadata": {},
     "output_type": "execute_result"
    }
   ],
   "source": [
    "data[\"Certificate\"].value_counts()"
   ]
  },
  {
   "cell_type": "code",
   "execution_count": 67,
   "id": "61550fa2-8bdf-4243-a02f-6ca8530016ac",
   "metadata": {},
   "outputs": [],
   "source": [
    "# Create certificate data containing first 4 most common Certificates and last 3 common Certificates"
   ]
  },
  {
   "cell_type": "code",
   "execution_count": 68,
   "id": "fb59b7d3-f076-4cbc-b492-7617ed9c93aa",
   "metadata": {},
   "outputs": [],
   "source": [
    "num_of_certs = len(data[\"Certificate\"].unique())\n",
    "certs = data[\"Certificate\"].value_counts()\n",
    "# last_3_cert = data[\"Certificate\"].value_counts()[num_of_certs-4:]\n",
    "\n",
    "certificate_data = certs"
   ]
  },
  {
   "cell_type": "code",
   "execution_count": 69,
   "id": "e9666517-a3af-4b67-bfbd-a323da9604c3",
   "metadata": {},
   "outputs": [
    {
     "data": {
      "text/plain": [
       "Certificate\n",
       "U           200\n",
       "A           180\n",
       "UA          163\n",
       "R           135\n",
       "No Info      46\n",
       "PG-13        39\n",
       "PG           24\n",
       "Passed       23\n",
       "G            10\n",
       "Approved      6\n",
       "GP            2\n",
       "Unrated       1\n",
       "TV-PG         1\n",
       "U/A           1\n",
       "Name: count, dtype: int64"
      ]
     },
     "execution_count": 69,
     "metadata": {},
     "output_type": "execute_result"
    }
   ],
   "source": [
    "certificate_data"
   ]
  },
  {
   "cell_type": "code",
   "execution_count": 70,
   "id": "e317b851-6a4a-4180-a650-2c56fcac2e11",
   "metadata": {},
   "outputs": [
    {
     "data": {
      "text/html": [
       "<div>\n",
       "<style scoped>\n",
       "    .dataframe tbody tr th:only-of-type {\n",
       "        vertical-align: middle;\n",
       "    }\n",
       "\n",
       "    .dataframe tbody tr th {\n",
       "        vertical-align: top;\n",
       "    }\n",
       "\n",
       "    .dataframe thead th {\n",
       "        text-align: right;\n",
       "    }\n",
       "</style>\n",
       "<table border=\"1\" class=\"dataframe\">\n",
       "  <thead>\n",
       "    <tr style=\"text-align: right;\">\n",
       "      <th></th>\n",
       "      <th>Series_Title</th>\n",
       "      <th>Released_Year</th>\n",
       "      <th>Certificate</th>\n",
       "      <th>Runtime</th>\n",
       "      <th>Genre</th>\n",
       "      <th>IMDB_Rating</th>\n",
       "      <th>Overview</th>\n",
       "      <th>Meta_score</th>\n",
       "      <th>Director</th>\n",
       "      <th>Star1</th>\n",
       "      <th>Star2</th>\n",
       "      <th>Star3</th>\n",
       "      <th>Star4</th>\n",
       "      <th>No_of_Votes</th>\n",
       "      <th>Gross</th>\n",
       "    </tr>\n",
       "  </thead>\n",
       "  <tbody>\n",
       "    <tr>\n",
       "      <th>0</th>\n",
       "      <td>The Shawshank Redemption</td>\n",
       "      <td>1994</td>\n",
       "      <td>A</td>\n",
       "      <td>142</td>\n",
       "      <td>Drama</td>\n",
       "      <td>9.3</td>\n",
       "      <td>Two imprisoned men bond over a number of years...</td>\n",
       "      <td>80.0</td>\n",
       "      <td>Frank Darabont</td>\n",
       "      <td>Tim Robbins</td>\n",
       "      <td>Morgan Freeman</td>\n",
       "      <td>Bob Gunton</td>\n",
       "      <td>William Sadler</td>\n",
       "      <td>2343110</td>\n",
       "      <td>28341469</td>\n",
       "    </tr>\n",
       "    <tr>\n",
       "      <th>1</th>\n",
       "      <td>The Godfather</td>\n",
       "      <td>1972</td>\n",
       "      <td>A</td>\n",
       "      <td>175</td>\n",
       "      <td>Crime, Drama</td>\n",
       "      <td>9.2</td>\n",
       "      <td>An organized crime dynasty's aging patriarch t...</td>\n",
       "      <td>100.0</td>\n",
       "      <td>Francis Ford Coppola</td>\n",
       "      <td>Marlon Brando</td>\n",
       "      <td>Al Pacino</td>\n",
       "      <td>James Caan</td>\n",
       "      <td>Diane Keaton</td>\n",
       "      <td>1620367</td>\n",
       "      <td>134966411</td>\n",
       "    </tr>\n",
       "  </tbody>\n",
       "</table>\n",
       "</div>"
      ],
      "text/plain": [
       "               Series_Title  Released_Year Certificate  Runtime         Genre  \\\n",
       "0  The Shawshank Redemption           1994           A      142         Drama   \n",
       "1             The Godfather           1972           A      175  Crime, Drama   \n",
       "\n",
       "   IMDB_Rating                                           Overview  Meta_score  \\\n",
       "0          9.3  Two imprisoned men bond over a number of years...        80.0   \n",
       "1          9.2  An organized crime dynasty's aging patriarch t...       100.0   \n",
       "\n",
       "               Director          Star1           Star2       Star3  \\\n",
       "0        Frank Darabont    Tim Robbins  Morgan Freeman  Bob Gunton   \n",
       "1  Francis Ford Coppola  Marlon Brando       Al Pacino  James Caan   \n",
       "\n",
       "            Star4  No_of_Votes      Gross  \n",
       "0  William Sadler      2343110   28341469  \n",
       "1    Diane Keaton      1620367  134966411  "
      ]
     },
     "execution_count": 70,
     "metadata": {},
     "output_type": "execute_result"
    }
   ],
   "source": [
    "filtered_data = data[data[\"Certificate\"].isin(certificate_data.index)]\n",
    "filtered_data.head(2)"
   ]
  },
  {
   "cell_type": "code",
   "execution_count": 71,
   "id": "fda667b3-5c3b-4115-a590-69e8bda403ab",
   "metadata": {},
   "outputs": [
    {
     "data": {
      "text/plain": [
       "<Axes: xlabel='Certificate', ylabel='Meta_score'>"
      ]
     },
     "execution_count": 71,
     "metadata": {},
     "output_type": "execute_result"
    },
    {
     "data": {
      "image/png": "[encoded data removed]",
      "text/plain": [
       "<Figure size 1000x800 with 1 Axes>"
      ]
     },
     "metadata": {},
     "output_type": "display_data"
    }
   ],
   "source": [
    "plt.figure(figsize = (10,8))\n",
    "sns.violinplot(data = filtered_data, x = \"Certificate\", y = \"Meta_score\")"
   ]
  },
  {
   "cell_type": "markdown",
   "id": "01778773-8904-4524-a529-f67d441a7c4e",
   "metadata": {},
   "source": [
    "# KDE Plots"
   ]
  },
  {
   "cell_type": "markdown",
   "id": "8c56aeb5-f35b-4e66-aaf0-1e229db8c1a5",
   "metadata": {},
   "source": [
    "<p style = \"background-color: #f1edfa; font-size:20px\"> \n",
    "    A <b>Kernel Density Estimate (KDE) plot</b> is a smoothed visualization of a variable’s distribution, providing a continuous estimate of the probability density function (PDF). Unlike histograms, which rely on discrete bins, KDE plots use a kernel function to create a smooth curve, making them useful for understanding the overall distribution of a dataset. They are primarily used for <b>continuous numerical variables</b>, which are plotted on the x-axis, while the y-axis represents the density (a probability estimate). KDE plots are particularly useful for identifying peaks, skewness, and the spread of data. In Python, KDE plots can be generated using pandas, matplotlib, and seaborn. While pandas and matplotlib offer basic KDE plotting capabilities, seaborn provides enhanced functionality with additional customization options, making it a preferred choice for KDE visualizations.\n",
    "</p>\n",
    "<section style = \"background-color: #f1edfa; font-size:20px\"> \n",
    "    In Python, KDE plots can be generated using pandas, matplotlib, and seaborn:\n",
    "<ul>\n",
    "    <li>Pandas: <b>.plot.kde()</b> to create a KDE plot directly from a DataFrame or Series </li>\n",
    "    <li>Matplotlib: <b>plt.hist(..., density=True)</b> along with scipy.stats.gaussian_kde for a more manual approach.</li>\n",
    "    <li>Seaborn: <b>sns.kdeplot()</b> to create well-styled and customizable KDE plots with additional features like multiple distributions and shading.</li>\n",
    "\n",
    "</ul>\n",
    "</section>"
   ]
  },
  {
   "cell_type": "code",
   "execution_count": 118,
   "id": "5d0998b3-2429-4dd5-b3ad-588894cb2714",
   "metadata": {},
   "outputs": [],
   "source": [
    "# Tasks for KDE Plot\n",
    "# Task 1. Generate KDE Plot with Seaborn, visualize \"Gross\" column\n",
    "# Task 2. Generate KDE Plot with Seaborn, visualize \"Meta_score\"\n",
    "# Task 3. Generate KDE Plot with Pandas, visualize \"No of votes\""
   ]
  },
  {
   "cell_type": "code",
   "execution_count": 73,
   "id": "6254c94e-e6f9-417d-b94f-5f6aba667091",
   "metadata": {},
   "outputs": [],
   "source": [
    "# Task 1. KDE Plot with SEABORN showing \"Gross\" distribution"
   ]
  },
  {
   "cell_type": "code",
   "execution_count": 114,
   "id": "be1e68f1-c106-4ef9-bb92-10d6daa6eb6b",
   "metadata": {},
   "outputs": [
    {
     "data": {
      "text/plain": [
       "<Axes: xlabel='Gross', ylabel='Density'>"
      ]
     },
     "execution_count": 114,
     "metadata": {},
     "output_type": "execute_result"
    },
    {
     "data": {
      "image/png": "[encoded data removed]",
      "text/plain": [
       "<Figure size 640x480 with 1 Axes>"
      ]
     },
     "metadata": {},
     "output_type": "display_data"
    }
   ],
   "source": [
    "sns.kdeplot(data = data, x = \"Gross\")"
   ]
  },
  {
   "cell_type": "code",
   "execution_count": 113,
   "id": "6dbd418b-df12-45f1-94ce-5489030240ae",
   "metadata": {},
   "outputs": [
    {
     "data": {
      "text/plain": [
       "Text(0.5, 0, 'years')"
      ]
     },
     "execution_count": 113,
     "metadata": {},
     "output_type": "execute_result"
    },
    {
     "data": {
      "image/png": "[encoded data removed]",
      "text/plain": [
       "<Figure size 640x480 with 1 Axes>"
      ]
     },
     "metadata": {},
     "output_type": "display_data"
    }
   ],
   "source": [
    "data[\"Gross\"].plot(kind = \"kde\")\n",
    "plt.xlabel(\"years\")"
   ]
  },
  {
   "cell_type": "code",
   "execution_count": 115,
   "id": "bb5b10b4-ab9b-4832-a063-06be24599e9d",
   "metadata": {},
   "outputs": [],
   "source": [
    "# Task 2. Generate KDE Plot with Matplotlib, visualize \"Meta_score\""
   ]
  },
  {
   "cell_type": "code",
   "execution_count": 124,
   "id": "96806bb5-15d9-4fa2-9fc1-5690e7a516ec",
   "metadata": {},
   "outputs": [
    {
     "data": {
      "text/html": [
       "<div>\n",
       "<style scoped>\n",
       "    .dataframe tbody tr th:only-of-type {\n",
       "        vertical-align: middle;\n",
       "    }\n",
       "\n",
       "    .dataframe tbody tr th {\n",
       "        vertical-align: top;\n",
       "    }\n",
       "\n",
       "    .dataframe thead th {\n",
       "        text-align: right;\n",
       "    }\n",
       "</style>\n",
       "<table border=\"1\" class=\"dataframe\">\n",
       "  <thead>\n",
       "    <tr style=\"text-align: right;\">\n",
       "      <th></th>\n",
       "      <th>Released_Year</th>\n",
       "      <th>Meta_score</th>\n",
       "    </tr>\n",
       "  </thead>\n",
       "  <tbody>\n",
       "    <tr>\n",
       "      <th>0</th>\n",
       "      <td>0</td>\n",
       "      <td>77.000000</td>\n",
       "    </tr>\n",
       "    <tr>\n",
       "      <th>3</th>\n",
       "      <td>1925</td>\n",
       "      <td>97.000000</td>\n",
       "    </tr>\n",
       "    <tr>\n",
       "      <th>5</th>\n",
       "      <td>1927</td>\n",
       "      <td>98.000000</td>\n",
       "    </tr>\n",
       "    <tr>\n",
       "      <th>7</th>\n",
       "      <td>1930</td>\n",
       "      <td>91.000000</td>\n",
       "    </tr>\n",
       "    <tr>\n",
       "      <th>8</th>\n",
       "      <td>1931</td>\n",
       "      <td>99.000000</td>\n",
       "    </tr>\n",
       "    <tr>\n",
       "      <th>...</th>\n",
       "      <td>...</td>\n",
       "      <td>...</td>\n",
       "    </tr>\n",
       "    <tr>\n",
       "      <th>90</th>\n",
       "      <td>2015</td>\n",
       "      <td>79.789474</td>\n",
       "    </tr>\n",
       "    <tr>\n",
       "      <th>91</th>\n",
       "      <td>2016</td>\n",
       "      <td>78.950000</td>\n",
       "    </tr>\n",
       "    <tr>\n",
       "      <th>92</th>\n",
       "      <td>2017</td>\n",
       "      <td>79.473684</td>\n",
       "    </tr>\n",
       "    <tr>\n",
       "      <th>93</th>\n",
       "      <td>2018</td>\n",
       "      <td>76.166667</td>\n",
       "    </tr>\n",
       "    <tr>\n",
       "      <th>94</th>\n",
       "      <td>2019</td>\n",
       "      <td>80.533333</td>\n",
       "    </tr>\n",
       "  </tbody>\n",
       "</table>\n",
       "<p>88 rows × 2 columns</p>\n",
       "</div>"
      ],
      "text/plain": [
       "    Released_Year  Meta_score\n",
       "0               0   77.000000\n",
       "3            1925   97.000000\n",
       "5            1927   98.000000\n",
       "7            1930   91.000000\n",
       "8            1931   99.000000\n",
       "..            ...         ...\n",
       "90           2015   79.789474\n",
       "91           2016   78.950000\n",
       "92           2017   79.473684\n",
       "93           2018   76.166667\n",
       "94           2019   80.533333\n",
       "\n",
       "[88 rows x 2 columns]"
      ]
     },
     "execution_count": 124,
     "metadata": {},
     "output_type": "execute_result"
    }
   ],
   "source": [
    "metascore_for_years = data.groupby(\"Released_Year\")[\"Meta_score\"].mean().reset_index()\n",
    "metascore_for_years = metascore_for_years[~metascore_for_years[\"Meta_score\"].isnull()]\n",
    "metascore_for_years"
   ]
  },
  {
   "cell_type": "code",
   "execution_count": 127,
   "id": "a8d0e19a-f69b-45e4-b0da-02c50e8c2061",
   "metadata": {},
   "outputs": [
    {
     "data": {
      "text/plain": [
       "<Axes: xlabel='Released_Year', ylabel='Meta_score'>"
      ]
     },
     "execution_count": 127,
     "metadata": {},
     "output_type": "execute_result"
    },
    {
     "data": {
      "image/png": "[encoded data removed]",
      "text/plain": [
       "<Figure size 640x480 with 1 Axes>"
      ]
     },
     "metadata": {},
     "output_type": "display_data"
    }
   ],
   "source": [
    "sns.kdeplot(x = metascore_for_years[\"Released_Year\"], y = metascore_for_years[\"Meta_score\"], fill=True, cmap=\"Blues\")"
   ]
  },
  {
   "cell_type": "markdown",
   "id": "2c306609-d4b9-488f-ba0a-ca65a67f1ac1",
   "metadata": {},
   "source": [
    "The concentric circles appear because Released_Year is a discrete variable (integer values), while Meta_score is continuous. KDE plots work best when both variables are continuous. Since years are discrete, the KDE method struggles to estimate a smooth density function, leading to those circular artifacts."
   ]
  },
  {
   "cell_type": "code",
   "execution_count": 135,
   "id": "21403fa1-b637-466c-8535-9f14b8f05183",
   "metadata": {},
   "outputs": [
    {
     "data": {
      "text/plain": [
       "<Axes: xlabel='Meta_score', ylabel='Density'>"
      ]
     },
     "execution_count": 135,
     "metadata": {},
     "output_type": "execute_result"
    },
    {
     "data": {
      "image/png": "[encoded data removed]",
      "text/plain": [
       "<Figure size 640x480 with 1 Axes>"
      ]
     },
     "metadata": {},
     "output_type": "display_data"
    }
   ],
   "source": [
    "sns.kdeplot(data = data,  x = \"Meta_score\", fill=True, cmap=\"Blues\")"
   ]
  }
 ],
 "metadata": {
  "kernelspec": {
   "display_name": "Python 3 (ipykernel)",
   "language": "python",
   "name": "python3"
  },
  "language_info": {
   "codemirror_mode": {
    "name": "ipython",
    "version": 3
   },
   "file_extension": ".py",
   "mimetype": "text/x-python",
   "name": "python",
   "nbconvert_exporter": "python",
   "pygments_lexer": "ipython3",
   "version": "3.8.20"
  }
 },
 "nbformat": 4,
 "nbformat_minor": 5
}
